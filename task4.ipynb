{
  "nbformat": 4,
  "nbformat_minor": 0,
  "metadata": {
    "colab": {
      "provenance": [],
      "authorship_tag": "ABX9TyPB4yi2rJccz6jN0riuTfAZ",
      "include_colab_link": true
    },
    "kernelspec": {
      "name": "python3",
      "display_name": "Python 3"
    },
    "language_info": {
      "name": "python"
    }
  },
  "cells": [
    {
      "cell_type": "markdown",
      "metadata": {
        "id": "view-in-github",
        "colab_type": "text"
      },
      "source": [
        "<a href=\"https://colab.research.google.com/github/Amrutha-Tsavatapalli/ACM-work/blob/main/task4.ipynb\" target=\"_parent\"><img src=\"https://colab.research.google.com/assets/colab-badge.svg\" alt=\"Open In Colab\"/></a>"
      ]
    },
    {
      "cell_type": "code",
      "execution_count": 1,
      "metadata": {
        "colab": {
          "base_uri": "https://localhost:8080/"
        },
        "id": "BUY1O6WNHDPI",
        "outputId": "3fe49b87-03ef-4036-c156-cce13a666033"
      },
      "outputs": [
        {
          "output_type": "stream",
          "name": "stdout",
          "text": [
            "Tensor A:\n",
            " tensor([[-0.6426,  0.2794,  0.5881],\n",
            "        [-1.2952,  0.1035,  1.7633],\n",
            "        [ 0.1025,  1.2268,  0.3110]], requires_grad=True)\n",
            "\n",
            "Tensor B:\n",
            " tensor([[ 0.0017, -0.1432, -0.6097],\n",
            "        [-0.2743, -1.3478,  0.3128],\n",
            "        [-0.8819,  0.0809, -0.8218]])\n",
            "\n",
            "Result C:\n",
            " tensor([[-0.5964, -0.2369, -0.0041],\n",
            "        [-1.5856,  0.1886, -0.6269],\n",
            "        [-0.6105, -1.6430,  0.0656]], grad_fn=<MmBackward0>)\n",
            "\n",
            "Gradient of C w.r.t. A:\n",
            " tensor([[-0.7513, -1.3093, -1.6229],\n",
            "        [-0.7513, -1.3093, -1.6229],\n",
            "        [-0.7513, -1.3093, -1.6229]])\n"
          ]
        }
      ],
      "source": [
        "import torch\n",
        "# Create two random tensors of shape 3x3\n",
        "A = torch.randn(3, 3, requires_grad=True)\n",
        "B = torch.randn(3, 3)\n",
        "# Perform matrix multiplication\n",
        "C = torch.matmul(A, B)\n",
        "# Compute the gradient of C w.r.t. A\n",
        "C.sum().backward()\n",
        "# Print tensors and gradients\n",
        "print(\"Tensor A:\\n\", A)\n",
        "print(\"\\nTensor B:\\n\", B)\n",
        "print(\"\\nResult C:\\n\", C)\n",
        "print(\"\\nGradient of C w.r.t. A:\\n\", A.grad)\n",
        "## Matrix Multiplication and Autograd\n"
      ]
    },
    {
      "cell_type": "code",
      "source": [
        "# Create a 3x1 tensor and a 1x3 tensor\n",
        "X = torch.randn(3, 1)\n",
        "Y = torch.randn(1, 3)\n",
        "# Add using broadcasting\n",
        "Z = X + Y\n",
        "# Multiply by another 3x3 tensor\n",
        "M = torch.randn(3, 3)\n",
        "result = Z * M\n",
        "# Print results\n",
        "print(\"\\nTensor X (3x1):\\n\", X)\n",
        "print(\"\\nTensor Y (1x3):\\n\", Y)\n",
        "print(\"\\nBroadcasted Addition (3x3):\\n\", Z)\n",
        "print(\"\\nFinal Result (3x3):\\n\", result)\n",
        "##Broadcasting"
      ],
      "metadata": {
        "colab": {
          "base_uri": "https://localhost:8080/"
        },
        "id": "elZQFTI6HfyK",
        "outputId": "b53d965c-e0b4-476a-dd65-7b8de19130ad"
      },
      "execution_count": 2,
      "outputs": [
        {
          "output_type": "stream",
          "name": "stdout",
          "text": [
            "\n",
            "Tensor X (3x1):\n",
            " tensor([[ 0.2188],\n",
            "        [ 1.1846],\n",
            "        [-0.6666]])\n",
            "\n",
            "Tensor Y (1x3):\n",
            " tensor([[ 0.8973,  0.0440, -0.4861]])\n",
            "\n",
            "Broadcasted Addition (3x3):\n",
            " tensor([[ 1.1161,  0.2628, -0.2673],\n",
            "        [ 2.0819,  1.2286,  0.6985],\n",
            "        [ 0.2307, -0.6226, -1.1527]])\n",
            "\n",
            "Final Result (3x3):\n",
            " tensor([[ 1.0214,  0.0607, -0.3973],\n",
            "        [ 1.1718, -0.6274, -1.2913],\n",
            "        [ 0.2118, -0.1120, -2.6630]])\n"
          ]
        }
      ]
    },
    {
      "cell_type": "code",
      "source": [
        "# Create a (6,4) tensor\n",
        "T = torch.randn(6, 4)\n",
        "# Reshape it to (3,8)\n",
        "T_reshaped = T.view(3, 8)\n",
        "# Extract the first two columns (all rows)\n",
        "slice_T = T_reshaped[:, :2]\n",
        "# Print results\n",
        "print(\"\\nOriginal Tensor (6x4):\\n\", T)\n",
        "print(\"\\nReshaped Tensor (3x8):\\n\", T_reshaped)\n",
        "print(\"\\nExtracted Slice (first two columns):\\n\", slice_T)\n",
        "##Reshaping and Slicing"
      ],
      "metadata": {
        "colab": {
          "base_uri": "https://localhost:8080/"
        },
        "id": "dRsijJszHk_0",
        "outputId": "9217cccf-ade0-430d-83bd-96a90b6bab4a"
      },
      "execution_count": 3,
      "outputs": [
        {
          "output_type": "stream",
          "name": "stdout",
          "text": [
            "\n",
            "Original Tensor (6x4):\n",
            " tensor([[ 0.6951, -1.1115, -0.0037,  1.3299],\n",
            "        [-0.3312,  2.1172,  0.9511, -1.3527],\n",
            "        [ 2.5903,  1.3408, -1.4696,  0.8051],\n",
            "        [-2.0450, -0.8795, -0.1838,  1.4640],\n",
            "        [-0.0401,  0.2433,  1.6943, -2.0780],\n",
            "        [-0.1609, -1.0725, -0.9030,  0.1014]])\n",
            "\n",
            "Reshaped Tensor (3x8):\n",
            " tensor([[ 0.6951, -1.1115, -0.0037,  1.3299, -0.3312,  2.1172,  0.9511, -1.3527],\n",
            "        [ 2.5903,  1.3408, -1.4696,  0.8051, -2.0450, -0.8795, -0.1838,  1.4640],\n",
            "        [-0.0401,  0.2433,  1.6943, -2.0780, -0.1609, -1.0725, -0.9030,  0.1014]])\n",
            "\n",
            "Extracted Slice (first two columns):\n",
            " tensor([[ 0.6951, -1.1115],\n",
            "        [ 2.5903,  1.3408],\n",
            "        [-0.0401,  0.2433]])\n"
          ]
        }
      ]
    },
    {
      "cell_type": "code",
      "source": [],
      "metadata": {
        "id": "zSEa2M6qHycJ"
      },
      "execution_count": null,
      "outputs": []
    }
  ]
}