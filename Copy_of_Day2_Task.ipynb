{
  "cells": [
    {
      "cell_type": "markdown",
      "id": "7801cdbe",
      "metadata": {
        "papermill": {
          "duration": 0.0123,
          "end_time": "2022-11-01T17:12:59.444825",
          "exception": false,
          "start_time": "2022-11-01T17:12:59.432525",
          "status": "completed"
        },
        "tags": [],
        "id": "7801cdbe"
      },
      "source": [
        "# <div class=\"alert alert-block alert-success\" dir=\"rtl\" style=\"text-align: center;\"><strong><span style=\"font-size: 20pt\">Data PreProcessing <br /></span></strong></div>"
      ]
    },
    {
      "cell_type": "markdown",
      "id": "7c728061",
      "metadata": {
        "id": "7c728061"
      },
      "source": [
        "# Working with this Notebook\n",
        "\n",
        "## Step 1: Understand the Notebook\n",
        "\n",
        "- **Review existing code:** Understand the context of the `?` placeholders by examining the surrounding code and comments.\n",
        "\n",
        "## Step 2: Identify the Function Type\n",
        "- **Look at the comment beside `?`:** Use the comment to infer what function or code is needed.\n",
        "  - Example: `# Load data` suggests using a data loading function like `pd.read_csv()`.\n",
        "\n",
        "## Step 3: Replace `?` with the Appropriate Function\n",
        "- **Loading Data:**\n",
        "  ```python\n",
        "  ? # Load data\n",
        "  data = pd.read_csv('file.csv')  # Replace '?' with 'pd.read_csv' or an appropriate data loading function\n",
        "  ```\n",
        "\n",
        "## Step 4: Test the Code\n",
        "- **Run each cell:** After replacing the `?` placeholders with the appropriate functions or code, execute each cell in the notebook to ensure everything works correctly.\n",
        "- **Debug if necessary:** If any errors occur, review the code and comments to confirm that the correct functions were chosen, and make any necessary adjustments.\n"
      ]
    },
    {
      "cell_type": "code",
      "source": [],
      "metadata": {
        "id": "3aFGO87h9I8m"
      },
      "id": "3aFGO87h9I8m",
      "execution_count": null,
      "outputs": []
    },
    {
      "cell_type": "markdown",
      "id": "d6a08865",
      "metadata": {
        "papermill": {
          "duration": 0.010876,
          "end_time": "2022-11-01T17:12:59.512254",
          "exception": false,
          "start_time": "2022-11-01T17:12:59.501378",
          "status": "completed"
        },
        "tags": [],
        "id": "d6a08865"
      },
      "source": [
        "# <font color='deepskyblue'>Why Data Preprocessing in Machine Learning?</font>\n",
        "When it comes to creating a Machine Learning model, data preprocessing is the first step marking the initiation of the process. Typically, real-world data is incomplete, inconsistent, inaccurate (contains errors or outliers), and often lacks specific attribute values/trends. This is where data preprocessing enters the scenario – it helps to clean, format, and organize the raw data, thereby making it ready-to-go for Machine Learning models. Let’s explore various steps of data preprocessing in machine learning."
      ]
    },
    {
      "cell_type": "markdown",
      "id": "0f295c7a",
      "metadata": {
        "papermill": {
          "duration": 0.010619,
          "end_time": "2022-11-01T17:12:59.533762",
          "exception": false,
          "start_time": "2022-11-01T17:12:59.523143",
          "status": "completed"
        },
        "tags": [],
        "id": "0f295c7a"
      },
      "source": [
        "# <font color='deepskyblue'>Step 0 : Download the Dataset</font>\n",
        "\n",
        "Just run the below cell and it will automatically download the dataset"
      ]
    },
    {
      "cell_type": "code",
      "execution_count": null,
      "id": "0e281394",
      "metadata": {
        "colab": {
          "base_uri": "https://localhost:8080/"
        },
        "id": "0e281394",
        "outputId": "580bd2c6-2466-43d5-ce7f-49046aa10609"
      },
      "outputs": [
        {
          "output_type": "stream",
          "name": "stdout",
          "text": [
            "Downloaded the file to data.csv\n"
          ]
        }
      ],
      "source": [
        "import requests\n",
        "\n",
        "dropbox_url = 'https://www.dropbox.com/scl/fi/wlwe84143qn7y21fo0gfl/data2.csv?rlkey=y80m2qjenl5xnldweg6jt83m0&st=iivuy9fn&dl=1'\n",
        "\n",
        "destination = 'data.csv'\n",
        "\n",
        "response = requests.get(dropbox_url, stream=True)\n",
        "\n",
        "with open(destination, 'wb') as file:\n",
        "    for chunk in response.iter_content(1024):\n",
        "        file.write(chunk)\n",
        "\n",
        "print(f\"Downloaded the file to {destination}\")\n"
      ]
    },
    {
      "cell_type": "markdown",
      "id": "c07b4a30",
      "metadata": {
        "papermill": {
          "duration": 0.010831,
          "end_time": "2022-11-01T17:12:59.555718",
          "exception": false,
          "start_time": "2022-11-01T17:12:59.544887",
          "status": "completed"
        },
        "tags": [],
        "id": "c07b4a30"
      },
      "source": [
        "# <font color='deepskyblue'>Step 1 : Import all the necessary Libraries</font>\n"
      ]
    },
    {
      "cell_type": "code",
      "execution_count": null,
      "id": "f3816b28",
      "metadata": {
        "execution": {
          "iopub.execute_input": "2022-11-01T17:12:59.581242Z",
          "iopub.status.busy": "2022-11-01T17:12:59.580269Z",
          "iopub.status.idle": "2022-11-01T17:13:00.727372Z",
          "shell.execute_reply": "2022-11-01T17:13:00.726440Z"
        },
        "papermill": {
          "duration": 1.163443,
          "end_time": "2022-11-01T17:13:00.730441",
          "exception": false,
          "start_time": "2022-11-01T17:12:59.566998",
          "status": "completed"
        },
        "tags": [],
        "id": "f3816b28"
      },
      "outputs": [],
      "source": [
        "import numpy as np\n",
        "import pandas as pd\n",
        "import matplotlib.pyplot as plt\n",
        "import seaborn as sns\n",
        "%matplotlib inline\n",
        "import sklearn"
      ]
    },
    {
      "cell_type": "markdown",
      "id": "3f40efac",
      "metadata": {
        "papermill": {
          "duration": 0.011217,
          "end_time": "2022-11-01T17:13:00.753267",
          "exception": false,
          "start_time": "2022-11-01T17:13:00.742050",
          "status": "completed"
        },
        "tags": [],
        "id": "3f40efac"
      },
      "source": [
        "# <font color='deepskyblue'>Step 2 : Load the dataset</font>\n"
      ]
    },
    {
      "cell_type": "code",
      "execution_count": null,
      "id": "7407dd73",
      "metadata": {
        "execution": {
          "iopub.execute_input": "2022-11-01T17:13:00.779706Z",
          "iopub.status.busy": "2022-11-01T17:13:00.778844Z",
          "iopub.status.idle": "2022-11-01T17:13:00.798455Z",
          "shell.execute_reply": "2022-11-01T17:13:00.797623Z"
        },
        "papermill": {
          "duration": 0.036512,
          "end_time": "2022-11-01T17:13:00.801378",
          "exception": false,
          "start_time": "2022-11-01T17:13:00.764866",
          "status": "completed"
        },
        "tags": [],
        "id": "7407dd73"
      },
      "outputs": [],
      "source": [
        "dataset = pd.read_csv('data.csv') # load the dataset"
      ]
    },
    {
      "cell_type": "code",
      "execution_count": null,
      "id": "2ce83e29",
      "metadata": {
        "execution": {
          "iopub.execute_input": "2022-11-01T17:13:00.826471Z",
          "iopub.status.busy": "2022-11-01T17:13:00.825788Z",
          "iopub.status.idle": "2022-11-01T17:13:00.830005Z",
          "shell.execute_reply": "2022-11-01T17:13:00.829357Z"
        },
        "papermill": {
          "duration": 0.018898,
          "end_time": "2022-11-01T17:13:00.831883",
          "exception": false,
          "start_time": "2022-11-01T17:13:00.812985",
          "status": "completed"
        },
        "tags": [],
        "id": "2ce83e29"
      },
      "outputs": [],
      "source": [
        "df = pd.DataFrame(dataset)"
      ]
    },
    {
      "cell_type": "code",
      "execution_count": null,
      "id": "b272acc0",
      "metadata": {
        "execution": {
          "iopub.execute_input": "2022-11-01T17:13:00.859284Z",
          "iopub.status.busy": "2022-11-01T17:13:00.858425Z",
          "iopub.status.idle": "2022-11-01T17:13:00.884635Z",
          "shell.execute_reply": "2022-11-01T17:13:00.883433Z"
        },
        "papermill": {
          "duration": 0.043556,
          "end_time": "2022-11-01T17:13:00.886987",
          "exception": false,
          "start_time": "2022-11-01T17:13:00.843431",
          "status": "completed"
        },
        "tags": [],
        "id": "b272acc0",
        "colab": {
          "base_uri": "https://localhost:8080/",
          "height": 363
        },
        "outputId": "7fe7f307-c7b9-47f5-901a-c37331b268e4"
      },
      "outputs": [
        {
          "output_type": "execute_result",
          "data": {
            "text/plain": [
              "   Country   Age   Salary Purchased\n",
              "0   France  44.0  72000.0        No\n",
              "1    Spain  27.0  48000.0       Yes\n",
              "2  Germany  30.0  54000.0        No\n",
              "3    Spain  38.0  61000.0        No\n",
              "4  Germany  40.0      NaN       Yes\n",
              "5   France  35.0  58000.0       Yes\n",
              "6    Spain   NaN  52000.0        No\n",
              "7   France  48.0  79000.0       Yes\n",
              "8  Germany  50.0  83000.0        No\n",
              "9   France  37.0  67000.0       Yes"
            ],
            "text/html": [
              "\n",
              "  <div id=\"df-5458b5de-974a-4979-94e1-f33d6a6db23e\" class=\"colab-df-container\">\n",
              "    <div>\n",
              "<style scoped>\n",
              "    .dataframe tbody tr th:only-of-type {\n",
              "        vertical-align: middle;\n",
              "    }\n",
              "\n",
              "    .dataframe tbody tr th {\n",
              "        vertical-align: top;\n",
              "    }\n",
              "\n",
              "    .dataframe thead th {\n",
              "        text-align: right;\n",
              "    }\n",
              "</style>\n",
              "<table border=\"1\" class=\"dataframe\">\n",
              "  <thead>\n",
              "    <tr style=\"text-align: right;\">\n",
              "      <th></th>\n",
              "      <th>Country</th>\n",
              "      <th>Age</th>\n",
              "      <th>Salary</th>\n",
              "      <th>Purchased</th>\n",
              "    </tr>\n",
              "  </thead>\n",
              "  <tbody>\n",
              "    <tr>\n",
              "      <th>0</th>\n",
              "      <td>France</td>\n",
              "      <td>44.0</td>\n",
              "      <td>72000.0</td>\n",
              "      <td>No</td>\n",
              "    </tr>\n",
              "    <tr>\n",
              "      <th>1</th>\n",
              "      <td>Spain</td>\n",
              "      <td>27.0</td>\n",
              "      <td>48000.0</td>\n",
              "      <td>Yes</td>\n",
              "    </tr>\n",
              "    <tr>\n",
              "      <th>2</th>\n",
              "      <td>Germany</td>\n",
              "      <td>30.0</td>\n",
              "      <td>54000.0</td>\n",
              "      <td>No</td>\n",
              "    </tr>\n",
              "    <tr>\n",
              "      <th>3</th>\n",
              "      <td>Spain</td>\n",
              "      <td>38.0</td>\n",
              "      <td>61000.0</td>\n",
              "      <td>No</td>\n",
              "    </tr>\n",
              "    <tr>\n",
              "      <th>4</th>\n",
              "      <td>Germany</td>\n",
              "      <td>40.0</td>\n",
              "      <td>NaN</td>\n",
              "      <td>Yes</td>\n",
              "    </tr>\n",
              "    <tr>\n",
              "      <th>5</th>\n",
              "      <td>France</td>\n",
              "      <td>35.0</td>\n",
              "      <td>58000.0</td>\n",
              "      <td>Yes</td>\n",
              "    </tr>\n",
              "    <tr>\n",
              "      <th>6</th>\n",
              "      <td>Spain</td>\n",
              "      <td>NaN</td>\n",
              "      <td>52000.0</td>\n",
              "      <td>No</td>\n",
              "    </tr>\n",
              "    <tr>\n",
              "      <th>7</th>\n",
              "      <td>France</td>\n",
              "      <td>48.0</td>\n",
              "      <td>79000.0</td>\n",
              "      <td>Yes</td>\n",
              "    </tr>\n",
              "    <tr>\n",
              "      <th>8</th>\n",
              "      <td>Germany</td>\n",
              "      <td>50.0</td>\n",
              "      <td>83000.0</td>\n",
              "      <td>No</td>\n",
              "    </tr>\n",
              "    <tr>\n",
              "      <th>9</th>\n",
              "      <td>France</td>\n",
              "      <td>37.0</td>\n",
              "      <td>67000.0</td>\n",
              "      <td>Yes</td>\n",
              "    </tr>\n",
              "  </tbody>\n",
              "</table>\n",
              "</div>\n",
              "    <div class=\"colab-df-buttons\">\n",
              "\n",
              "  <div class=\"colab-df-container\">\n",
              "    <button class=\"colab-df-convert\" onclick=\"convertToInteractive('df-5458b5de-974a-4979-94e1-f33d6a6db23e')\"\n",
              "            title=\"Convert this dataframe to an interactive table.\"\n",
              "            style=\"display:none;\">\n",
              "\n",
              "  <svg xmlns=\"http://www.w3.org/2000/svg\" height=\"24px\" viewBox=\"0 -960 960 960\">\n",
              "    <path d=\"M120-120v-720h720v720H120Zm60-500h600v-160H180v160Zm220 220h160v-160H400v160Zm0 220h160v-160H400v160ZM180-400h160v-160H180v160Zm440 0h160v-160H620v160ZM180-180h160v-160H180v160Zm440 0h160v-160H620v160Z\"/>\n",
              "  </svg>\n",
              "    </button>\n",
              "\n",
              "  <style>\n",
              "    .colab-df-container {\n",
              "      display:flex;\n",
              "      gap: 12px;\n",
              "    }\n",
              "\n",
              "    .colab-df-convert {\n",
              "      background-color: #E8F0FE;\n",
              "      border: none;\n",
              "      border-radius: 50%;\n",
              "      cursor: pointer;\n",
              "      display: none;\n",
              "      fill: #1967D2;\n",
              "      height: 32px;\n",
              "      padding: 0 0 0 0;\n",
              "      width: 32px;\n",
              "    }\n",
              "\n",
              "    .colab-df-convert:hover {\n",
              "      background-color: #E2EBFA;\n",
              "      box-shadow: 0px 1px 2px rgba(60, 64, 67, 0.3), 0px 1px 3px 1px rgba(60, 64, 67, 0.15);\n",
              "      fill: #174EA6;\n",
              "    }\n",
              "\n",
              "    .colab-df-buttons div {\n",
              "      margin-bottom: 4px;\n",
              "    }\n",
              "\n",
              "    [theme=dark] .colab-df-convert {\n",
              "      background-color: #3B4455;\n",
              "      fill: #D2E3FC;\n",
              "    }\n",
              "\n",
              "    [theme=dark] .colab-df-convert:hover {\n",
              "      background-color: #434B5C;\n",
              "      box-shadow: 0px 1px 3px 1px rgba(0, 0, 0, 0.15);\n",
              "      filter: drop-shadow(0px 1px 2px rgba(0, 0, 0, 0.3));\n",
              "      fill: #FFFFFF;\n",
              "    }\n",
              "  </style>\n",
              "\n",
              "    <script>\n",
              "      const buttonEl =\n",
              "        document.querySelector('#df-5458b5de-974a-4979-94e1-f33d6a6db23e button.colab-df-convert');\n",
              "      buttonEl.style.display =\n",
              "        google.colab.kernel.accessAllowed ? 'block' : 'none';\n",
              "\n",
              "      async function convertToInteractive(key) {\n",
              "        const element = document.querySelector('#df-5458b5de-974a-4979-94e1-f33d6a6db23e');\n",
              "        const dataTable =\n",
              "          await google.colab.kernel.invokeFunction('convertToInteractive',\n",
              "                                                    [key], {});\n",
              "        if (!dataTable) return;\n",
              "\n",
              "        const docLinkHtml = 'Like what you see? Visit the ' +\n",
              "          '<a target=\"_blank\" href=https://colab.research.google.com/notebooks/data_table.ipynb>data table notebook</a>'\n",
              "          + ' to learn more about interactive tables.';\n",
              "        element.innerHTML = '';\n",
              "        dataTable['output_type'] = 'display_data';\n",
              "        await google.colab.output.renderOutput(dataTable, element);\n",
              "        const docLink = document.createElement('div');\n",
              "        docLink.innerHTML = docLinkHtml;\n",
              "        element.appendChild(docLink);\n",
              "      }\n",
              "    </script>\n",
              "  </div>\n",
              "\n",
              "\n",
              "<div id=\"df-8f3f8e24-0b57-4fa3-8c68-40485c0c6f8f\">\n",
              "  <button class=\"colab-df-quickchart\" onclick=\"quickchart('df-8f3f8e24-0b57-4fa3-8c68-40485c0c6f8f')\"\n",
              "            title=\"Suggest charts\"\n",
              "            style=\"display:none;\">\n",
              "\n",
              "<svg xmlns=\"http://www.w3.org/2000/svg\" height=\"24px\"viewBox=\"0 0 24 24\"\n",
              "     width=\"24px\">\n",
              "    <g>\n",
              "        <path d=\"M19 3H5c-1.1 0-2 .9-2 2v14c0 1.1.9 2 2 2h14c1.1 0 2-.9 2-2V5c0-1.1-.9-2-2-2zM9 17H7v-7h2v7zm4 0h-2V7h2v10zm4 0h-2v-4h2v4z\"/>\n",
              "    </g>\n",
              "</svg>\n",
              "  </button>\n",
              "\n",
              "<style>\n",
              "  .colab-df-quickchart {\n",
              "      --bg-color: #E8F0FE;\n",
              "      --fill-color: #1967D2;\n",
              "      --hover-bg-color: #E2EBFA;\n",
              "      --hover-fill-color: #174EA6;\n",
              "      --disabled-fill-color: #AAA;\n",
              "      --disabled-bg-color: #DDD;\n",
              "  }\n",
              "\n",
              "  [theme=dark] .colab-df-quickchart {\n",
              "      --bg-color: #3B4455;\n",
              "      --fill-color: #D2E3FC;\n",
              "      --hover-bg-color: #434B5C;\n",
              "      --hover-fill-color: #FFFFFF;\n",
              "      --disabled-bg-color: #3B4455;\n",
              "      --disabled-fill-color: #666;\n",
              "  }\n",
              "\n",
              "  .colab-df-quickchart {\n",
              "    background-color: var(--bg-color);\n",
              "    border: none;\n",
              "    border-radius: 50%;\n",
              "    cursor: pointer;\n",
              "    display: none;\n",
              "    fill: var(--fill-color);\n",
              "    height: 32px;\n",
              "    padding: 0;\n",
              "    width: 32px;\n",
              "  }\n",
              "\n",
              "  .colab-df-quickchart:hover {\n",
              "    background-color: var(--hover-bg-color);\n",
              "    box-shadow: 0 1px 2px rgba(60, 64, 67, 0.3), 0 1px 3px 1px rgba(60, 64, 67, 0.15);\n",
              "    fill: var(--button-hover-fill-color);\n",
              "  }\n",
              "\n",
              "  .colab-df-quickchart-complete:disabled,\n",
              "  .colab-df-quickchart-complete:disabled:hover {\n",
              "    background-color: var(--disabled-bg-color);\n",
              "    fill: var(--disabled-fill-color);\n",
              "    box-shadow: none;\n",
              "  }\n",
              "\n",
              "  .colab-df-spinner {\n",
              "    border: 2px solid var(--fill-color);\n",
              "    border-color: transparent;\n",
              "    border-bottom-color: var(--fill-color);\n",
              "    animation:\n",
              "      spin 1s steps(1) infinite;\n",
              "  }\n",
              "\n",
              "  @keyframes spin {\n",
              "    0% {\n",
              "      border-color: transparent;\n",
              "      border-bottom-color: var(--fill-color);\n",
              "      border-left-color: var(--fill-color);\n",
              "    }\n",
              "    20% {\n",
              "      border-color: transparent;\n",
              "      border-left-color: var(--fill-color);\n",
              "      border-top-color: var(--fill-color);\n",
              "    }\n",
              "    30% {\n",
              "      border-color: transparent;\n",
              "      border-left-color: var(--fill-color);\n",
              "      border-top-color: var(--fill-color);\n",
              "      border-right-color: var(--fill-color);\n",
              "    }\n",
              "    40% {\n",
              "      border-color: transparent;\n",
              "      border-right-color: var(--fill-color);\n",
              "      border-top-color: var(--fill-color);\n",
              "    }\n",
              "    60% {\n",
              "      border-color: transparent;\n",
              "      border-right-color: var(--fill-color);\n",
              "    }\n",
              "    80% {\n",
              "      border-color: transparent;\n",
              "      border-right-color: var(--fill-color);\n",
              "      border-bottom-color: var(--fill-color);\n",
              "    }\n",
              "    90% {\n",
              "      border-color: transparent;\n",
              "      border-bottom-color: var(--fill-color);\n",
              "    }\n",
              "  }\n",
              "</style>\n",
              "\n",
              "  <script>\n",
              "    async function quickchart(key) {\n",
              "      const quickchartButtonEl =\n",
              "        document.querySelector('#' + key + ' button');\n",
              "      quickchartButtonEl.disabled = true;  // To prevent multiple clicks.\n",
              "      quickchartButtonEl.classList.add('colab-df-spinner');\n",
              "      try {\n",
              "        const charts = await google.colab.kernel.invokeFunction(\n",
              "            'suggestCharts', [key], {});\n",
              "      } catch (error) {\n",
              "        console.error('Error during call to suggestCharts:', error);\n",
              "      }\n",
              "      quickchartButtonEl.classList.remove('colab-df-spinner');\n",
              "      quickchartButtonEl.classList.add('colab-df-quickchart-complete');\n",
              "    }\n",
              "    (() => {\n",
              "      let quickchartButtonEl =\n",
              "        document.querySelector('#df-8f3f8e24-0b57-4fa3-8c68-40485c0c6f8f button');\n",
              "      quickchartButtonEl.style.display =\n",
              "        google.colab.kernel.accessAllowed ? 'block' : 'none';\n",
              "    })();\n",
              "  </script>\n",
              "</div>\n",
              "\n",
              "  <div id=\"id_703c3642-ec52-4b11-b1d4-f4c794650c9d\">\n",
              "    <style>\n",
              "      .colab-df-generate {\n",
              "        background-color: #E8F0FE;\n",
              "        border: none;\n",
              "        border-radius: 50%;\n",
              "        cursor: pointer;\n",
              "        display: none;\n",
              "        fill: #1967D2;\n",
              "        height: 32px;\n",
              "        padding: 0 0 0 0;\n",
              "        width: 32px;\n",
              "      }\n",
              "\n",
              "      .colab-df-generate:hover {\n",
              "        background-color: #E2EBFA;\n",
              "        box-shadow: 0px 1px 2px rgba(60, 64, 67, 0.3), 0px 1px 3px 1px rgba(60, 64, 67, 0.15);\n",
              "        fill: #174EA6;\n",
              "      }\n",
              "\n",
              "      [theme=dark] .colab-df-generate {\n",
              "        background-color: #3B4455;\n",
              "        fill: #D2E3FC;\n",
              "      }\n",
              "\n",
              "      [theme=dark] .colab-df-generate:hover {\n",
              "        background-color: #434B5C;\n",
              "        box-shadow: 0px 1px 3px 1px rgba(0, 0, 0, 0.15);\n",
              "        filter: drop-shadow(0px 1px 2px rgba(0, 0, 0, 0.3));\n",
              "        fill: #FFFFFF;\n",
              "      }\n",
              "    </style>\n",
              "    <button class=\"colab-df-generate\" onclick=\"generateWithVariable('df')\"\n",
              "            title=\"Generate code using this dataframe.\"\n",
              "            style=\"display:none;\">\n",
              "\n",
              "  <svg xmlns=\"http://www.w3.org/2000/svg\" height=\"24px\"viewBox=\"0 0 24 24\"\n",
              "       width=\"24px\">\n",
              "    <path d=\"M7,19H8.4L18.45,9,17,7.55,7,17.6ZM5,21V16.75L18.45,3.32a2,2,0,0,1,2.83,0l1.4,1.43a1.91,1.91,0,0,1,.58,1.4,1.91,1.91,0,0,1-.58,1.4L9.25,21ZM18.45,9,17,7.55Zm-12,3A5.31,5.31,0,0,0,4.9,8.1,5.31,5.31,0,0,0,1,6.5,5.31,5.31,0,0,0,4.9,4.9,5.31,5.31,0,0,0,6.5,1,5.31,5.31,0,0,0,8.1,4.9,5.31,5.31,0,0,0,12,6.5,5.46,5.46,0,0,0,6.5,12Z\"/>\n",
              "  </svg>\n",
              "    </button>\n",
              "    <script>\n",
              "      (() => {\n",
              "      const buttonEl =\n",
              "        document.querySelector('#id_703c3642-ec52-4b11-b1d4-f4c794650c9d button.colab-df-generate');\n",
              "      buttonEl.style.display =\n",
              "        google.colab.kernel.accessAllowed ? 'block' : 'none';\n",
              "\n",
              "      buttonEl.onclick = () => {\n",
              "        google.colab.notebook.generateWithVariable('df');\n",
              "      }\n",
              "      })();\n",
              "    </script>\n",
              "  </div>\n",
              "\n",
              "    </div>\n",
              "  </div>\n"
            ],
            "application/vnd.google.colaboratory.intrinsic+json": {
              "type": "dataframe",
              "variable_name": "df",
              "summary": "{\n  \"name\": \"df\",\n  \"rows\": 10,\n  \"fields\": [\n    {\n      \"column\": \"Country\",\n      \"properties\": {\n        \"dtype\": \"category\",\n        \"num_unique_values\": 3,\n        \"samples\": [\n          \"France\",\n          \"Spain\",\n          \"Germany\"\n        ],\n        \"semantic_type\": \"\",\n        \"description\": \"\"\n      }\n    },\n    {\n      \"column\": \"Age\",\n      \"properties\": {\n        \"dtype\": \"number\",\n        \"std\": 7.693792591722527,\n        \"min\": 27.0,\n        \"max\": 50.0,\n        \"num_unique_values\": 9,\n        \"samples\": [\n          50.0,\n          27.0,\n          35.0\n        ],\n        \"semantic_type\": \"\",\n        \"description\": \"\"\n      }\n    },\n    {\n      \"column\": \"Salary\",\n      \"properties\": {\n        \"dtype\": \"number\",\n        \"std\": 12265.579661982732,\n        \"min\": 48000.0,\n        \"max\": 83000.0,\n        \"num_unique_values\": 9,\n        \"samples\": [\n          83000.0,\n          48000.0,\n          52000.0\n        ],\n        \"semantic_type\": \"\",\n        \"description\": \"\"\n      }\n    },\n    {\n      \"column\": \"Purchased\",\n      \"properties\": {\n        \"dtype\": \"category\",\n        \"num_unique_values\": 2,\n        \"samples\": [\n          \"Yes\",\n          \"No\"\n        ],\n        \"semantic_type\": \"\",\n        \"description\": \"\"\n      }\n    }\n  ]\n}"
            }
          },
          "metadata": {},
          "execution_count": 11
        }
      ],
      "source": [
        "df"
      ]
    },
    {
      "cell_type": "code",
      "execution_count": null,
      "id": "d992e20b",
      "metadata": {
        "execution": {
          "iopub.execute_input": "2022-11-01T17:13:00.913955Z",
          "iopub.status.busy": "2022-11-01T17:13:00.912714Z",
          "iopub.status.idle": "2022-11-01T17:13:00.923589Z",
          "shell.execute_reply": "2022-11-01T17:13:00.922354Z"
        },
        "papermill": {
          "duration": 0.026726,
          "end_time": "2022-11-01T17:13:00.925573",
          "exception": false,
          "start_time": "2022-11-01T17:13:00.898847",
          "status": "completed"
        },
        "tags": [],
        "id": "d992e20b"
      },
      "outputs": [],
      "source": [
        "X = df.iloc[:, :-1].values\n",
        "Y = df.iloc[:, -1].values"
      ]
    },
    {
      "cell_type": "code",
      "execution_count": null,
      "id": "ee6b52fb",
      "metadata": {
        "execution": {
          "iopub.execute_input": "2022-11-01T17:13:00.950082Z",
          "iopub.status.busy": "2022-11-01T17:13:00.949722Z",
          "iopub.status.idle": "2022-11-01T17:13:00.956422Z",
          "shell.execute_reply": "2022-11-01T17:13:00.954846Z"
        },
        "papermill": {
          "duration": 0.022035,
          "end_time": "2022-11-01T17:13:00.959114",
          "exception": false,
          "start_time": "2022-11-01T17:13:00.937079",
          "status": "completed"
        },
        "tags": [],
        "id": "ee6b52fb",
        "colab": {
          "base_uri": "https://localhost:8080/"
        },
        "outputId": "01c6b657-63ac-4a5a-ebfb-d6dacdd26b94"
      },
      "outputs": [
        {
          "output_type": "stream",
          "name": "stdout",
          "text": [
            "[['France' 44.0 72000.0]\n",
            " ['Spain' 27.0 48000.0]\n",
            " ['Germany' 30.0 54000.0]\n",
            " ['Spain' 38.0 61000.0]\n",
            " ['Germany' 40.0 nan]\n",
            " ['France' 35.0 58000.0]\n",
            " ['Spain' nan 52000.0]\n",
            " ['France' 48.0 79000.0]\n",
            " ['Germany' 50.0 83000.0]\n",
            " ['France' 37.0 67000.0]]\n"
          ]
        }
      ],
      "source": [
        "print(X)"
      ]
    },
    {
      "cell_type": "code",
      "execution_count": null,
      "id": "5d90d124",
      "metadata": {
        "execution": {
          "iopub.execute_input": "2022-11-01T17:13:00.985242Z",
          "iopub.status.busy": "2022-11-01T17:13:00.984309Z",
          "iopub.status.idle": "2022-11-01T17:13:00.989998Z",
          "shell.execute_reply": "2022-11-01T17:13:00.988568Z"
        },
        "papermill": {
          "duration": 0.020654,
          "end_time": "2022-11-01T17:13:00.992112",
          "exception": false,
          "start_time": "2022-11-01T17:13:00.971458",
          "status": "completed"
        },
        "tags": [],
        "id": "5d90d124",
        "colab": {
          "base_uri": "https://localhost:8080/"
        },
        "outputId": "00dc69cb-6f41-4919-984b-4a2098ca8dea"
      },
      "outputs": [
        {
          "output_type": "stream",
          "name": "stdout",
          "text": [
            "['No' 'Yes' 'No' 'No' 'Yes' 'Yes' 'No' 'Yes' 'No' 'Yes']\n"
          ]
        }
      ],
      "source": [
        "print(Y)"
      ]
    },
    {
      "cell_type": "markdown",
      "id": "a923d780",
      "metadata": {
        "papermill": {
          "duration": 0.011309,
          "end_time": "2022-11-01T17:13:01.015067",
          "exception": false,
          "start_time": "2022-11-01T17:13:01.003758",
          "status": "completed"
        },
        "tags": [],
        "id": "a923d780"
      },
      "source": [
        "# <font color='deepskyblue'>Step 3 : Identify and Handle all the missing values</font>\n"
      ]
    },
    {
      "cell_type": "code",
      "execution_count": null,
      "id": "87999200",
      "metadata": {
        "execution": {
          "iopub.execute_input": "2022-11-01T17:13:01.063150Z",
          "iopub.status.busy": "2022-11-01T17:13:01.062795Z",
          "iopub.status.idle": "2022-11-01T17:13:01.071158Z",
          "shell.execute_reply": "2022-11-01T17:13:01.069641Z"
        },
        "papermill": {
          "duration": 0.023561,
          "end_time": "2022-11-01T17:13:01.073223",
          "exception": false,
          "start_time": "2022-11-01T17:13:01.049662",
          "status": "completed"
        },
        "tags": [],
        "id": "87999200",
        "colab": {
          "base_uri": "https://localhost:8080/",
          "height": 363
        },
        "outputId": "2b2db1cc-0bb9-4515-85dd-37bad5f0ae11"
      },
      "outputs": [
        {
          "output_type": "execute_result",
          "data": {
            "text/plain": [
              "   Country    Age  Salary  Purchased\n",
              "0    False  False   False      False\n",
              "1    False  False   False      False\n",
              "2    False  False   False      False\n",
              "3    False  False   False      False\n",
              "4    False  False    True      False\n",
              "5    False  False   False      False\n",
              "6    False   True   False      False\n",
              "7    False  False   False      False\n",
              "8    False  False   False      False\n",
              "9    False  False   False      False"
            ],
            "text/html": [
              "\n",
              "  <div id=\"df-e982a2cc-8df2-4ebb-b20e-621c8aed5e18\" class=\"colab-df-container\">\n",
              "    <div>\n",
              "<style scoped>\n",
              "    .dataframe tbody tr th:only-of-type {\n",
              "        vertical-align: middle;\n",
              "    }\n",
              "\n",
              "    .dataframe tbody tr th {\n",
              "        vertical-align: top;\n",
              "    }\n",
              "\n",
              "    .dataframe thead th {\n",
              "        text-align: right;\n",
              "    }\n",
              "</style>\n",
              "<table border=\"1\" class=\"dataframe\">\n",
              "  <thead>\n",
              "    <tr style=\"text-align: right;\">\n",
              "      <th></th>\n",
              "      <th>Country</th>\n",
              "      <th>Age</th>\n",
              "      <th>Salary</th>\n",
              "      <th>Purchased</th>\n",
              "    </tr>\n",
              "  </thead>\n",
              "  <tbody>\n",
              "    <tr>\n",
              "      <th>0</th>\n",
              "      <td>False</td>\n",
              "      <td>False</td>\n",
              "      <td>False</td>\n",
              "      <td>False</td>\n",
              "    </tr>\n",
              "    <tr>\n",
              "      <th>1</th>\n",
              "      <td>False</td>\n",
              "      <td>False</td>\n",
              "      <td>False</td>\n",
              "      <td>False</td>\n",
              "    </tr>\n",
              "    <tr>\n",
              "      <th>2</th>\n",
              "      <td>False</td>\n",
              "      <td>False</td>\n",
              "      <td>False</td>\n",
              "      <td>False</td>\n",
              "    </tr>\n",
              "    <tr>\n",
              "      <th>3</th>\n",
              "      <td>False</td>\n",
              "      <td>False</td>\n",
              "      <td>False</td>\n",
              "      <td>False</td>\n",
              "    </tr>\n",
              "    <tr>\n",
              "      <th>4</th>\n",
              "      <td>False</td>\n",
              "      <td>False</td>\n",
              "      <td>True</td>\n",
              "      <td>False</td>\n",
              "    </tr>\n",
              "    <tr>\n",
              "      <th>5</th>\n",
              "      <td>False</td>\n",
              "      <td>False</td>\n",
              "      <td>False</td>\n",
              "      <td>False</td>\n",
              "    </tr>\n",
              "    <tr>\n",
              "      <th>6</th>\n",
              "      <td>False</td>\n",
              "      <td>True</td>\n",
              "      <td>False</td>\n",
              "      <td>False</td>\n",
              "    </tr>\n",
              "    <tr>\n",
              "      <th>7</th>\n",
              "      <td>False</td>\n",
              "      <td>False</td>\n",
              "      <td>False</td>\n",
              "      <td>False</td>\n",
              "    </tr>\n",
              "    <tr>\n",
              "      <th>8</th>\n",
              "      <td>False</td>\n",
              "      <td>False</td>\n",
              "      <td>False</td>\n",
              "      <td>False</td>\n",
              "    </tr>\n",
              "    <tr>\n",
              "      <th>9</th>\n",
              "      <td>False</td>\n",
              "      <td>False</td>\n",
              "      <td>False</td>\n",
              "      <td>False</td>\n",
              "    </tr>\n",
              "  </tbody>\n",
              "</table>\n",
              "</div>\n",
              "    <div class=\"colab-df-buttons\">\n",
              "\n",
              "  <div class=\"colab-df-container\">\n",
              "    <button class=\"colab-df-convert\" onclick=\"convertToInteractive('df-e982a2cc-8df2-4ebb-b20e-621c8aed5e18')\"\n",
              "            title=\"Convert this dataframe to an interactive table.\"\n",
              "            style=\"display:none;\">\n",
              "\n",
              "  <svg xmlns=\"http://www.w3.org/2000/svg\" height=\"24px\" viewBox=\"0 -960 960 960\">\n",
              "    <path d=\"M120-120v-720h720v720H120Zm60-500h600v-160H180v160Zm220 220h160v-160H400v160Zm0 220h160v-160H400v160ZM180-400h160v-160H180v160Zm440 0h160v-160H620v160ZM180-180h160v-160H180v160Zm440 0h160v-160H620v160Z\"/>\n",
              "  </svg>\n",
              "    </button>\n",
              "\n",
              "  <style>\n",
              "    .colab-df-container {\n",
              "      display:flex;\n",
              "      gap: 12px;\n",
              "    }\n",
              "\n",
              "    .colab-df-convert {\n",
              "      background-color: #E8F0FE;\n",
              "      border: none;\n",
              "      border-radius: 50%;\n",
              "      cursor: pointer;\n",
              "      display: none;\n",
              "      fill: #1967D2;\n",
              "      height: 32px;\n",
              "      padding: 0 0 0 0;\n",
              "      width: 32px;\n",
              "    }\n",
              "\n",
              "    .colab-df-convert:hover {\n",
              "      background-color: #E2EBFA;\n",
              "      box-shadow: 0px 1px 2px rgba(60, 64, 67, 0.3), 0px 1px 3px 1px rgba(60, 64, 67, 0.15);\n",
              "      fill: #174EA6;\n",
              "    }\n",
              "\n",
              "    .colab-df-buttons div {\n",
              "      margin-bottom: 4px;\n",
              "    }\n",
              "\n",
              "    [theme=dark] .colab-df-convert {\n",
              "      background-color: #3B4455;\n",
              "      fill: #D2E3FC;\n",
              "    }\n",
              "\n",
              "    [theme=dark] .colab-df-convert:hover {\n",
              "      background-color: #434B5C;\n",
              "      box-shadow: 0px 1px 3px 1px rgba(0, 0, 0, 0.15);\n",
              "      filter: drop-shadow(0px 1px 2px rgba(0, 0, 0, 0.3));\n",
              "      fill: #FFFFFF;\n",
              "    }\n",
              "  </style>\n",
              "\n",
              "    <script>\n",
              "      const buttonEl =\n",
              "        document.querySelector('#df-e982a2cc-8df2-4ebb-b20e-621c8aed5e18 button.colab-df-convert');\n",
              "      buttonEl.style.display =\n",
              "        google.colab.kernel.accessAllowed ? 'block' : 'none';\n",
              "\n",
              "      async function convertToInteractive(key) {\n",
              "        const element = document.querySelector('#df-e982a2cc-8df2-4ebb-b20e-621c8aed5e18');\n",
              "        const dataTable =\n",
              "          await google.colab.kernel.invokeFunction('convertToInteractive',\n",
              "                                                    [key], {});\n",
              "        if (!dataTable) return;\n",
              "\n",
              "        const docLinkHtml = 'Like what you see? Visit the ' +\n",
              "          '<a target=\"_blank\" href=https://colab.research.google.com/notebooks/data_table.ipynb>data table notebook</a>'\n",
              "          + ' to learn more about interactive tables.';\n",
              "        element.innerHTML = '';\n",
              "        dataTable['output_type'] = 'display_data';\n",
              "        await google.colab.output.renderOutput(dataTable, element);\n",
              "        const docLink = document.createElement('div');\n",
              "        docLink.innerHTML = docLinkHtml;\n",
              "        element.appendChild(docLink);\n",
              "      }\n",
              "    </script>\n",
              "  </div>\n",
              "\n",
              "\n",
              "<div id=\"df-a842f681-5b96-46ff-bf52-ba30be25055b\">\n",
              "  <button class=\"colab-df-quickchart\" onclick=\"quickchart('df-a842f681-5b96-46ff-bf52-ba30be25055b')\"\n",
              "            title=\"Suggest charts\"\n",
              "            style=\"display:none;\">\n",
              "\n",
              "<svg xmlns=\"http://www.w3.org/2000/svg\" height=\"24px\"viewBox=\"0 0 24 24\"\n",
              "     width=\"24px\">\n",
              "    <g>\n",
              "        <path d=\"M19 3H5c-1.1 0-2 .9-2 2v14c0 1.1.9 2 2 2h14c1.1 0 2-.9 2-2V5c0-1.1-.9-2-2-2zM9 17H7v-7h2v7zm4 0h-2V7h2v10zm4 0h-2v-4h2v4z\"/>\n",
              "    </g>\n",
              "</svg>\n",
              "  </button>\n",
              "\n",
              "<style>\n",
              "  .colab-df-quickchart {\n",
              "      --bg-color: #E8F0FE;\n",
              "      --fill-color: #1967D2;\n",
              "      --hover-bg-color: #E2EBFA;\n",
              "      --hover-fill-color: #174EA6;\n",
              "      --disabled-fill-color: #AAA;\n",
              "      --disabled-bg-color: #DDD;\n",
              "  }\n",
              "\n",
              "  [theme=dark] .colab-df-quickchart {\n",
              "      --bg-color: #3B4455;\n",
              "      --fill-color: #D2E3FC;\n",
              "      --hover-bg-color: #434B5C;\n",
              "      --hover-fill-color: #FFFFFF;\n",
              "      --disabled-bg-color: #3B4455;\n",
              "      --disabled-fill-color: #666;\n",
              "  }\n",
              "\n",
              "  .colab-df-quickchart {\n",
              "    background-color: var(--bg-color);\n",
              "    border: none;\n",
              "    border-radius: 50%;\n",
              "    cursor: pointer;\n",
              "    display: none;\n",
              "    fill: var(--fill-color);\n",
              "    height: 32px;\n",
              "    padding: 0;\n",
              "    width: 32px;\n",
              "  }\n",
              "\n",
              "  .colab-df-quickchart:hover {\n",
              "    background-color: var(--hover-bg-color);\n",
              "    box-shadow: 0 1px 2px rgba(60, 64, 67, 0.3), 0 1px 3px 1px rgba(60, 64, 67, 0.15);\n",
              "    fill: var(--button-hover-fill-color);\n",
              "  }\n",
              "\n",
              "  .colab-df-quickchart-complete:disabled,\n",
              "  .colab-df-quickchart-complete:disabled:hover {\n",
              "    background-color: var(--disabled-bg-color);\n",
              "    fill: var(--disabled-fill-color);\n",
              "    box-shadow: none;\n",
              "  }\n",
              "\n",
              "  .colab-df-spinner {\n",
              "    border: 2px solid var(--fill-color);\n",
              "    border-color: transparent;\n",
              "    border-bottom-color: var(--fill-color);\n",
              "    animation:\n",
              "      spin 1s steps(1) infinite;\n",
              "  }\n",
              "\n",
              "  @keyframes spin {\n",
              "    0% {\n",
              "      border-color: transparent;\n",
              "      border-bottom-color: var(--fill-color);\n",
              "      border-left-color: var(--fill-color);\n",
              "    }\n",
              "    20% {\n",
              "      border-color: transparent;\n",
              "      border-left-color: var(--fill-color);\n",
              "      border-top-color: var(--fill-color);\n",
              "    }\n",
              "    30% {\n",
              "      border-color: transparent;\n",
              "      border-left-color: var(--fill-color);\n",
              "      border-top-color: var(--fill-color);\n",
              "      border-right-color: var(--fill-color);\n",
              "    }\n",
              "    40% {\n",
              "      border-color: transparent;\n",
              "      border-right-color: var(--fill-color);\n",
              "      border-top-color: var(--fill-color);\n",
              "    }\n",
              "    60% {\n",
              "      border-color: transparent;\n",
              "      border-right-color: var(--fill-color);\n",
              "    }\n",
              "    80% {\n",
              "      border-color: transparent;\n",
              "      border-right-color: var(--fill-color);\n",
              "      border-bottom-color: var(--fill-color);\n",
              "    }\n",
              "    90% {\n",
              "      border-color: transparent;\n",
              "      border-bottom-color: var(--fill-color);\n",
              "    }\n",
              "  }\n",
              "</style>\n",
              "\n",
              "  <script>\n",
              "    async function quickchart(key) {\n",
              "      const quickchartButtonEl =\n",
              "        document.querySelector('#' + key + ' button');\n",
              "      quickchartButtonEl.disabled = true;  // To prevent multiple clicks.\n",
              "      quickchartButtonEl.classList.add('colab-df-spinner');\n",
              "      try {\n",
              "        const charts = await google.colab.kernel.invokeFunction(\n",
              "            'suggestCharts', [key], {});\n",
              "      } catch (error) {\n",
              "        console.error('Error during call to suggestCharts:', error);\n",
              "      }\n",
              "      quickchartButtonEl.classList.remove('colab-df-spinner');\n",
              "      quickchartButtonEl.classList.add('colab-df-quickchart-complete');\n",
              "    }\n",
              "    (() => {\n",
              "      let quickchartButtonEl =\n",
              "        document.querySelector('#df-a842f681-5b96-46ff-bf52-ba30be25055b button');\n",
              "      quickchartButtonEl.style.display =\n",
              "        google.colab.kernel.accessAllowed ? 'block' : 'none';\n",
              "    })();\n",
              "  </script>\n",
              "</div>\n",
              "\n",
              "    </div>\n",
              "  </div>\n"
            ],
            "application/vnd.google.colaboratory.intrinsic+json": {
              "type": "dataframe",
              "summary": "{\n  \"name\": \"df\",\n  \"rows\": 10,\n  \"fields\": [\n    {\n      \"column\": \"Country\",\n      \"properties\": {\n        \"dtype\": \"boolean\",\n        \"num_unique_values\": 1,\n        \"samples\": [\n          false\n        ],\n        \"semantic_type\": \"\",\n        \"description\": \"\"\n      }\n    },\n    {\n      \"column\": \"Age\",\n      \"properties\": {\n        \"dtype\": \"boolean\",\n        \"num_unique_values\": 2,\n        \"samples\": [\n          true\n        ],\n        \"semantic_type\": \"\",\n        \"description\": \"\"\n      }\n    },\n    {\n      \"column\": \"Salary\",\n      \"properties\": {\n        \"dtype\": \"boolean\",\n        \"num_unique_values\": 2,\n        \"samples\": [\n          true\n        ],\n        \"semantic_type\": \"\",\n        \"description\": \"\"\n      }\n    },\n    {\n      \"column\": \"Purchased\",\n      \"properties\": {\n        \"dtype\": \"boolean\",\n        \"num_unique_values\": 1,\n        \"samples\": [\n          false\n        ],\n        \"semantic_type\": \"\",\n        \"description\": \"\"\n      }\n    }\n  ]\n}"
            }
          },
          "metadata": {},
          "execution_count": 15
        }
      ],
      "source": [
        "df.isnull() # Find which all coloumns has missing values"
      ]
    },
    {
      "cell_type": "markdown",
      "id": "312aa216",
      "metadata": {
        "papermill": {
          "duration": 0.011496,
          "end_time": "2022-11-01T17:13:01.096597",
          "exception": false,
          "start_time": "2022-11-01T17:13:01.085101",
          "status": "completed"
        },
        "tags": [],
        "id": "312aa216"
      },
      "source": [
        "# <font color='deepskyblue'>Solution 1 : Drop all the missing rows</font>"
      ]
    },
    {
      "cell_type": "code",
      "execution_count": null,
      "id": "98273df6",
      "metadata": {
        "execution": {
          "iopub.execute_input": "2022-11-01T17:13:01.121251Z",
          "iopub.status.busy": "2022-11-01T17:13:01.120902Z",
          "iopub.status.idle": "2022-11-01T17:13:01.126572Z",
          "shell.execute_reply": "2022-11-01T17:13:01.124862Z"
        },
        "papermill": {
          "duration": 0.021197,
          "end_time": "2022-11-01T17:13:01.129387",
          "exception": false,
          "start_time": "2022-11-01T17:13:01.108190",
          "status": "completed"
        },
        "tags": [],
        "id": "98273df6"
      },
      "outputs": [],
      "source": [
        "df1 = df.copy()  # Create a copy of the dataframe"
      ]
    },
    {
      "cell_type": "code",
      "execution_count": null,
      "id": "bc79ecc3",
      "metadata": {
        "execution": {
          "iopub.execute_input": "2022-11-01T17:13:01.155440Z",
          "iopub.status.busy": "2022-11-01T17:13:01.154589Z",
          "iopub.status.idle": "2022-11-01T17:13:01.164789Z",
          "shell.execute_reply": "2022-11-01T17:13:01.163714Z"
        },
        "papermill": {
          "duration": 0.02553,
          "end_time": "2022-11-01T17:13:01.166714",
          "exception": false,
          "start_time": "2022-11-01T17:13:01.141184",
          "status": "completed"
        },
        "tags": [],
        "id": "bc79ecc3",
        "colab": {
          "base_uri": "https://localhost:8080/"
        },
        "outputId": "8880e74b-7dc5-4f0b-c69e-a8621b49ff1d"
      },
      "outputs": [
        {
          "output_type": "stream",
          "name": "stdout",
          "text": [
            "Before: (10, 4)\n",
            "After: (10, 4)\n"
          ]
        }
      ],
      "source": [
        "# summarize the shape of the raw data\n",
        "print(\"Before:\",df1.shape)\n",
        "\n",
        "df1.dropna() # Drop the missing valus\n",
        "\n",
        "# summarize the shape of the data with missing rows removed\n",
        "print(\"After:\",df1.shape)"
      ]
    },
    {
      "cell_type": "markdown",
      "id": "5a92b9a7",
      "metadata": {
        "papermill": {
          "duration": 0.011188,
          "end_time": "2022-11-01T17:13:01.189467",
          "exception": false,
          "start_time": "2022-11-01T17:13:01.178279",
          "status": "completed"
        },
        "tags": [],
        "id": "5a92b9a7"
      },
      "source": [
        "# <font color='deepskyblue'>Solution 2 : Fill the missing values with mean/median/mode</font>"
      ]
    },
    {
      "cell_type": "code",
      "execution_count": null,
      "id": "e3763d4e",
      "metadata": {
        "execution": {
          "iopub.execute_input": "2022-11-01T17:13:01.213690Z",
          "iopub.status.busy": "2022-11-01T17:13:01.213252Z",
          "iopub.status.idle": "2022-11-01T17:13:01.218596Z",
          "shell.execute_reply": "2022-11-01T17:13:01.217205Z"
        },
        "papermill": {
          "duration": 0.020628,
          "end_time": "2022-11-01T17:13:01.221205",
          "exception": false,
          "start_time": "2022-11-01T17:13:01.200577",
          "status": "completed"
        },
        "tags": [],
        "id": "e3763d4e"
      },
      "outputs": [],
      "source": [
        "df2 = df1.copy() # Create  a copy of dataframe"
      ]
    },
    {
      "cell_type": "code",
      "execution_count": null,
      "id": "a417b3c4",
      "metadata": {
        "execution": {
          "iopub.execute_input": "2022-11-01T17:13:01.247686Z",
          "iopub.status.busy": "2022-11-01T17:13:01.246476Z",
          "iopub.status.idle": "2022-11-01T17:13:01.251386Z",
          "shell.execute_reply": "2022-11-01T17:13:01.250703Z"
        },
        "papermill": {
          "duration": 0.020012,
          "end_time": "2022-11-01T17:13:01.253262",
          "exception": false,
          "start_time": "2022-11-01T17:13:01.233250",
          "status": "completed"
        },
        "tags": [],
        "id": "a417b3c4"
      },
      "outputs": [],
      "source": [
        "import warnings\n",
        "warnings.filterwarnings('ignore')"
      ]
    },
    {
      "cell_type": "code",
      "execution_count": null,
      "id": "a9bf8d04",
      "metadata": {
        "execution": {
          "iopub.execute_input": "2022-11-01T17:13:01.279135Z",
          "iopub.status.busy": "2022-11-01T17:13:01.278163Z",
          "iopub.status.idle": "2022-11-01T17:13:01.297636Z",
          "shell.execute_reply": "2022-11-01T17:13:01.296935Z"
        },
        "papermill": {
          "duration": 0.034154,
          "end_time": "2022-11-01T17:13:01.299277",
          "exception": false,
          "start_time": "2022-11-01T17:13:01.265123",
          "status": "completed"
        },
        "tags": [],
        "id": "a9bf8d04",
        "colab": {
          "base_uri": "https://localhost:8080/",
          "height": 453
        },
        "outputId": "3764a3c6-d099-4732-96e2-dc8e63c349d6"
      },
      "outputs": [
        {
          "output_type": "stream",
          "name": "stdout",
          "text": [
            "Country      0\n",
            "Age          0\n",
            "Salary       0\n",
            "Purchased    0\n",
            "dtype: int64\n"
          ]
        },
        {
          "output_type": "execute_result",
          "data": {
            "text/plain": [
              "   Country        Age        Salary Purchased\n",
              "0   France  38.388889  63777.777778        No\n",
              "1    Spain  38.388889  63777.777778       Yes\n",
              "2  Germany  38.388889  63777.777778        No\n",
              "3    Spain  38.388889  63777.777778        No\n",
              "4  Germany  38.388889  63777.777778       Yes\n",
              "5   France  38.388889  63777.777778       Yes\n",
              "6    Spain  38.388889  63777.777778        No\n",
              "7   France  38.388889  63777.777778       Yes\n",
              "8  Germany  38.388889  63777.777778        No\n",
              "9   France  38.388889  63777.777778       Yes"
            ],
            "text/html": [
              "\n",
              "  <div id=\"df-fd86fca8-cc68-4b71-a76a-fb82beb57df1\" class=\"colab-df-container\">\n",
              "    <div>\n",
              "<style scoped>\n",
              "    .dataframe tbody tr th:only-of-type {\n",
              "        vertical-align: middle;\n",
              "    }\n",
              "\n",
              "    .dataframe tbody tr th {\n",
              "        vertical-align: top;\n",
              "    }\n",
              "\n",
              "    .dataframe thead th {\n",
              "        text-align: right;\n",
              "    }\n",
              "</style>\n",
              "<table border=\"1\" class=\"dataframe\">\n",
              "  <thead>\n",
              "    <tr style=\"text-align: right;\">\n",
              "      <th></th>\n",
              "      <th>Country</th>\n",
              "      <th>Age</th>\n",
              "      <th>Salary</th>\n",
              "      <th>Purchased</th>\n",
              "    </tr>\n",
              "  </thead>\n",
              "  <tbody>\n",
              "    <tr>\n",
              "      <th>0</th>\n",
              "      <td>France</td>\n",
              "      <td>38.388889</td>\n",
              "      <td>63777.777778</td>\n",
              "      <td>No</td>\n",
              "    </tr>\n",
              "    <tr>\n",
              "      <th>1</th>\n",
              "      <td>Spain</td>\n",
              "      <td>38.388889</td>\n",
              "      <td>63777.777778</td>\n",
              "      <td>Yes</td>\n",
              "    </tr>\n",
              "    <tr>\n",
              "      <th>2</th>\n",
              "      <td>Germany</td>\n",
              "      <td>38.388889</td>\n",
              "      <td>63777.777778</td>\n",
              "      <td>No</td>\n",
              "    </tr>\n",
              "    <tr>\n",
              "      <th>3</th>\n",
              "      <td>Spain</td>\n",
              "      <td>38.388889</td>\n",
              "      <td>63777.777778</td>\n",
              "      <td>No</td>\n",
              "    </tr>\n",
              "    <tr>\n",
              "      <th>4</th>\n",
              "      <td>Germany</td>\n",
              "      <td>38.388889</td>\n",
              "      <td>63777.777778</td>\n",
              "      <td>Yes</td>\n",
              "    </tr>\n",
              "    <tr>\n",
              "      <th>5</th>\n",
              "      <td>France</td>\n",
              "      <td>38.388889</td>\n",
              "      <td>63777.777778</td>\n",
              "      <td>Yes</td>\n",
              "    </tr>\n",
              "    <tr>\n",
              "      <th>6</th>\n",
              "      <td>Spain</td>\n",
              "      <td>38.388889</td>\n",
              "      <td>63777.777778</td>\n",
              "      <td>No</td>\n",
              "    </tr>\n",
              "    <tr>\n",
              "      <th>7</th>\n",
              "      <td>France</td>\n",
              "      <td>38.388889</td>\n",
              "      <td>63777.777778</td>\n",
              "      <td>Yes</td>\n",
              "    </tr>\n",
              "    <tr>\n",
              "      <th>8</th>\n",
              "      <td>Germany</td>\n",
              "      <td>38.388889</td>\n",
              "      <td>63777.777778</td>\n",
              "      <td>No</td>\n",
              "    </tr>\n",
              "    <tr>\n",
              "      <th>9</th>\n",
              "      <td>France</td>\n",
              "      <td>38.388889</td>\n",
              "      <td>63777.777778</td>\n",
              "      <td>Yes</td>\n",
              "    </tr>\n",
              "  </tbody>\n",
              "</table>\n",
              "</div>\n",
              "    <div class=\"colab-df-buttons\">\n",
              "\n",
              "  <div class=\"colab-df-container\">\n",
              "    <button class=\"colab-df-convert\" onclick=\"convertToInteractive('df-fd86fca8-cc68-4b71-a76a-fb82beb57df1')\"\n",
              "            title=\"Convert this dataframe to an interactive table.\"\n",
              "            style=\"display:none;\">\n",
              "\n",
              "  <svg xmlns=\"http://www.w3.org/2000/svg\" height=\"24px\" viewBox=\"0 -960 960 960\">\n",
              "    <path d=\"M120-120v-720h720v720H120Zm60-500h600v-160H180v160Zm220 220h160v-160H400v160Zm0 220h160v-160H400v160ZM180-400h160v-160H180v160Zm440 0h160v-160H620v160ZM180-180h160v-160H180v160Zm440 0h160v-160H620v160Z\"/>\n",
              "  </svg>\n",
              "    </button>\n",
              "\n",
              "  <style>\n",
              "    .colab-df-container {\n",
              "      display:flex;\n",
              "      gap: 12px;\n",
              "    }\n",
              "\n",
              "    .colab-df-convert {\n",
              "      background-color: #E8F0FE;\n",
              "      border: none;\n",
              "      border-radius: 50%;\n",
              "      cursor: pointer;\n",
              "      display: none;\n",
              "      fill: #1967D2;\n",
              "      height: 32px;\n",
              "      padding: 0 0 0 0;\n",
              "      width: 32px;\n",
              "    }\n",
              "\n",
              "    .colab-df-convert:hover {\n",
              "      background-color: #E2EBFA;\n",
              "      box-shadow: 0px 1px 2px rgba(60, 64, 67, 0.3), 0px 1px 3px 1px rgba(60, 64, 67, 0.15);\n",
              "      fill: #174EA6;\n",
              "    }\n",
              "\n",
              "    .colab-df-buttons div {\n",
              "      margin-bottom: 4px;\n",
              "    }\n",
              "\n",
              "    [theme=dark] .colab-df-convert {\n",
              "      background-color: #3B4455;\n",
              "      fill: #D2E3FC;\n",
              "    }\n",
              "\n",
              "    [theme=dark] .colab-df-convert:hover {\n",
              "      background-color: #434B5C;\n",
              "      box-shadow: 0px 1px 3px 1px rgba(0, 0, 0, 0.15);\n",
              "      filter: drop-shadow(0px 1px 2px rgba(0, 0, 0, 0.3));\n",
              "      fill: #FFFFFF;\n",
              "    }\n",
              "  </style>\n",
              "\n",
              "    <script>\n",
              "      const buttonEl =\n",
              "        document.querySelector('#df-fd86fca8-cc68-4b71-a76a-fb82beb57df1 button.colab-df-convert');\n",
              "      buttonEl.style.display =\n",
              "        google.colab.kernel.accessAllowed ? 'block' : 'none';\n",
              "\n",
              "      async function convertToInteractive(key) {\n",
              "        const element = document.querySelector('#df-fd86fca8-cc68-4b71-a76a-fb82beb57df1');\n",
              "        const dataTable =\n",
              "          await google.colab.kernel.invokeFunction('convertToInteractive',\n",
              "                                                    [key], {});\n",
              "        if (!dataTable) return;\n",
              "\n",
              "        const docLinkHtml = 'Like what you see? Visit the ' +\n",
              "          '<a target=\"_blank\" href=https://colab.research.google.com/notebooks/data_table.ipynb>data table notebook</a>'\n",
              "          + ' to learn more about interactive tables.';\n",
              "        element.innerHTML = '';\n",
              "        dataTable['output_type'] = 'display_data';\n",
              "        await google.colab.output.renderOutput(dataTable, element);\n",
              "        const docLink = document.createElement('div');\n",
              "        docLink.innerHTML = docLinkHtml;\n",
              "        element.appendChild(docLink);\n",
              "      }\n",
              "    </script>\n",
              "  </div>\n",
              "\n",
              "\n",
              "<div id=\"df-b2093d37-099b-4aa3-be13-2c690644351e\">\n",
              "  <button class=\"colab-df-quickchart\" onclick=\"quickchart('df-b2093d37-099b-4aa3-be13-2c690644351e')\"\n",
              "            title=\"Suggest charts\"\n",
              "            style=\"display:none;\">\n",
              "\n",
              "<svg xmlns=\"http://www.w3.org/2000/svg\" height=\"24px\"viewBox=\"0 0 24 24\"\n",
              "     width=\"24px\">\n",
              "    <g>\n",
              "        <path d=\"M19 3H5c-1.1 0-2 .9-2 2v14c0 1.1.9 2 2 2h14c1.1 0 2-.9 2-2V5c0-1.1-.9-2-2-2zM9 17H7v-7h2v7zm4 0h-2V7h2v10zm4 0h-2v-4h2v4z\"/>\n",
              "    </g>\n",
              "</svg>\n",
              "  </button>\n",
              "\n",
              "<style>\n",
              "  .colab-df-quickchart {\n",
              "      --bg-color: #E8F0FE;\n",
              "      --fill-color: #1967D2;\n",
              "      --hover-bg-color: #E2EBFA;\n",
              "      --hover-fill-color: #174EA6;\n",
              "      --disabled-fill-color: #AAA;\n",
              "      --disabled-bg-color: #DDD;\n",
              "  }\n",
              "\n",
              "  [theme=dark] .colab-df-quickchart {\n",
              "      --bg-color: #3B4455;\n",
              "      --fill-color: #D2E3FC;\n",
              "      --hover-bg-color: #434B5C;\n",
              "      --hover-fill-color: #FFFFFF;\n",
              "      --disabled-bg-color: #3B4455;\n",
              "      --disabled-fill-color: #666;\n",
              "  }\n",
              "\n",
              "  .colab-df-quickchart {\n",
              "    background-color: var(--bg-color);\n",
              "    border: none;\n",
              "    border-radius: 50%;\n",
              "    cursor: pointer;\n",
              "    display: none;\n",
              "    fill: var(--fill-color);\n",
              "    height: 32px;\n",
              "    padding: 0;\n",
              "    width: 32px;\n",
              "  }\n",
              "\n",
              "  .colab-df-quickchart:hover {\n",
              "    background-color: var(--hover-bg-color);\n",
              "    box-shadow: 0 1px 2px rgba(60, 64, 67, 0.3), 0 1px 3px 1px rgba(60, 64, 67, 0.15);\n",
              "    fill: var(--button-hover-fill-color);\n",
              "  }\n",
              "\n",
              "  .colab-df-quickchart-complete:disabled,\n",
              "  .colab-df-quickchart-complete:disabled:hover {\n",
              "    background-color: var(--disabled-bg-color);\n",
              "    fill: var(--disabled-fill-color);\n",
              "    box-shadow: none;\n",
              "  }\n",
              "\n",
              "  .colab-df-spinner {\n",
              "    border: 2px solid var(--fill-color);\n",
              "    border-color: transparent;\n",
              "    border-bottom-color: var(--fill-color);\n",
              "    animation:\n",
              "      spin 1s steps(1) infinite;\n",
              "  }\n",
              "\n",
              "  @keyframes spin {\n",
              "    0% {\n",
              "      border-color: transparent;\n",
              "      border-bottom-color: var(--fill-color);\n",
              "      border-left-color: var(--fill-color);\n",
              "    }\n",
              "    20% {\n",
              "      border-color: transparent;\n",
              "      border-left-color: var(--fill-color);\n",
              "      border-top-color: var(--fill-color);\n",
              "    }\n",
              "    30% {\n",
              "      border-color: transparent;\n",
              "      border-left-color: var(--fill-color);\n",
              "      border-top-color: var(--fill-color);\n",
              "      border-right-color: var(--fill-color);\n",
              "    }\n",
              "    40% {\n",
              "      border-color: transparent;\n",
              "      border-right-color: var(--fill-color);\n",
              "      border-top-color: var(--fill-color);\n",
              "    }\n",
              "    60% {\n",
              "      border-color: transparent;\n",
              "      border-right-color: var(--fill-color);\n",
              "    }\n",
              "    80% {\n",
              "      border-color: transparent;\n",
              "      border-right-color: var(--fill-color);\n",
              "      border-bottom-color: var(--fill-color);\n",
              "    }\n",
              "    90% {\n",
              "      border-color: transparent;\n",
              "      border-bottom-color: var(--fill-color);\n",
              "    }\n",
              "  }\n",
              "</style>\n",
              "\n",
              "  <script>\n",
              "    async function quickchart(key) {\n",
              "      const quickchartButtonEl =\n",
              "        document.querySelector('#' + key + ' button');\n",
              "      quickchartButtonEl.disabled = true;  // To prevent multiple clicks.\n",
              "      quickchartButtonEl.classList.add('colab-df-spinner');\n",
              "      try {\n",
              "        const charts = await google.colab.kernel.invokeFunction(\n",
              "            'suggestCharts', [key], {});\n",
              "      } catch (error) {\n",
              "        console.error('Error during call to suggestCharts:', error);\n",
              "      }\n",
              "      quickchartButtonEl.classList.remove('colab-df-spinner');\n",
              "      quickchartButtonEl.classList.add('colab-df-quickchart-complete');\n",
              "    }\n",
              "    (() => {\n",
              "      let quickchartButtonEl =\n",
              "        document.querySelector('#df-b2093d37-099b-4aa3-be13-2c690644351e button');\n",
              "      quickchartButtonEl.style.display =\n",
              "        google.colab.kernel.accessAllowed ? 'block' : 'none';\n",
              "    })();\n",
              "  </script>\n",
              "</div>\n",
              "\n",
              "  <div id=\"id_140d5ee1-e355-48ca-bbe3-44bf29fe3415\">\n",
              "    <style>\n",
              "      .colab-df-generate {\n",
              "        background-color: #E8F0FE;\n",
              "        border: none;\n",
              "        border-radius: 50%;\n",
              "        cursor: pointer;\n",
              "        display: none;\n",
              "        fill: #1967D2;\n",
              "        height: 32px;\n",
              "        padding: 0 0 0 0;\n",
              "        width: 32px;\n",
              "      }\n",
              "\n",
              "      .colab-df-generate:hover {\n",
              "        background-color: #E2EBFA;\n",
              "        box-shadow: 0px 1px 2px rgba(60, 64, 67, 0.3), 0px 1px 3px 1px rgba(60, 64, 67, 0.15);\n",
              "        fill: #174EA6;\n",
              "      }\n",
              "\n",
              "      [theme=dark] .colab-df-generate {\n",
              "        background-color: #3B4455;\n",
              "        fill: #D2E3FC;\n",
              "      }\n",
              "\n",
              "      [theme=dark] .colab-df-generate:hover {\n",
              "        background-color: #434B5C;\n",
              "        box-shadow: 0px 1px 3px 1px rgba(0, 0, 0, 0.15);\n",
              "        filter: drop-shadow(0px 1px 2px rgba(0, 0, 0, 0.3));\n",
              "        fill: #FFFFFF;\n",
              "      }\n",
              "    </style>\n",
              "    <button class=\"colab-df-generate\" onclick=\"generateWithVariable('df2')\"\n",
              "            title=\"Generate code using this dataframe.\"\n",
              "            style=\"display:none;\">\n",
              "\n",
              "  <svg xmlns=\"http://www.w3.org/2000/svg\" height=\"24px\"viewBox=\"0 0 24 24\"\n",
              "       width=\"24px\">\n",
              "    <path d=\"M7,19H8.4L18.45,9,17,7.55,7,17.6ZM5,21V16.75L18.45,3.32a2,2,0,0,1,2.83,0l1.4,1.43a1.91,1.91,0,0,1,.58,1.4,1.91,1.91,0,0,1-.58,1.4L9.25,21ZM18.45,9,17,7.55Zm-12,3A5.31,5.31,0,0,0,4.9,8.1,5.31,5.31,0,0,0,1,6.5,5.31,5.31,0,0,0,4.9,4.9,5.31,5.31,0,0,0,6.5,1,5.31,5.31,0,0,0,8.1,4.9,5.31,5.31,0,0,0,12,6.5,5.46,5.46,0,0,0,6.5,12Z\"/>\n",
              "  </svg>\n",
              "    </button>\n",
              "    <script>\n",
              "      (() => {\n",
              "      const buttonEl =\n",
              "        document.querySelector('#id_140d5ee1-e355-48ca-bbe3-44bf29fe3415 button.colab-df-generate');\n",
              "      buttonEl.style.display =\n",
              "        google.colab.kernel.accessAllowed ? 'block' : 'none';\n",
              "\n",
              "      buttonEl.onclick = () => {\n",
              "        google.colab.notebook.generateWithVariable('df2');\n",
              "      }\n",
              "      })();\n",
              "    </script>\n",
              "  </div>\n",
              "\n",
              "    </div>\n",
              "  </div>\n"
            ],
            "application/vnd.google.colaboratory.intrinsic+json": {
              "type": "dataframe",
              "variable_name": "df2",
              "summary": "{\n  \"name\": \"df2\",\n  \"rows\": 10,\n  \"fields\": [\n    {\n      \"column\": \"Country\",\n      \"properties\": {\n        \"dtype\": \"category\",\n        \"num_unique_values\": 3,\n        \"samples\": [\n          \"France\",\n          \"Spain\",\n          \"Germany\"\n        ],\n        \"semantic_type\": \"\",\n        \"description\": \"\"\n      }\n    },\n    {\n      \"column\": \"Age\",\n      \"properties\": {\n        \"dtype\": \"number\",\n        \"std\": 7.489778066296963e-15,\n        \"min\": 38.388888888888886,\n        \"max\": 38.388888888888886,\n        \"num_unique_values\": 1,\n        \"samples\": [\n          38.388888888888886\n        ],\n        \"semantic_type\": \"\",\n        \"description\": \"\"\n      }\n    },\n    {\n      \"column\": \"Salary\",\n      \"properties\": {\n        \"dtype\": \"number\",\n        \"std\": 7.66953273988809e-12,\n        \"min\": 63777.777777777774,\n        \"max\": 63777.777777777774,\n        \"num_unique_values\": 1,\n        \"samples\": [\n          63777.777777777774\n        ],\n        \"semantic_type\": \"\",\n        \"description\": \"\"\n      }\n    },\n    {\n      \"column\": \"Purchased\",\n      \"properties\": {\n        \"dtype\": \"category\",\n        \"num_unique_values\": 2,\n        \"samples\": [\n          \"Yes\"\n        ],\n        \"semantic_type\": \"\",\n        \"description\": \"\"\n      }\n    }\n  ]\n}"
            }
          },
          "metadata": {},
          "execution_count": 24
        }
      ],
      "source": [
        "df2['Age'] = df2['Age'].median() # Fill the missing values with mean/median/mode ? for age\n",
        "df2['Salary'] = df2['Salary'].mean() # Fill the missing values with mean/median/mode ? for Salary\n",
        "print(df2.isnull().sum())\n",
        "\n",
        "df2"
      ]
    },
    {
      "cell_type": "markdown",
      "id": "8363857e",
      "metadata": {
        "papermill": {
          "duration": 0.012312,
          "end_time": "2022-11-01T17:13:01.677279",
          "exception": false,
          "start_time": "2022-11-01T17:13:01.664967",
          "status": "completed"
        },
        "tags": [],
        "id": "8363857e"
      },
      "source": [
        "# <font color='deepskyblue'>Step 4:  Encoding the categorical data</font>"
      ]
    },
    {
      "cell_type": "code",
      "execution_count": null,
      "id": "48fb8750",
      "metadata": {
        "id": "48fb8750",
        "colab": {
          "base_uri": "https://localhost:8080/"
        },
        "outputId": "032dd38c-4415-4f6c-8df2-5a5bd9dd023b"
      },
      "outputs": [
        {
          "output_type": "stream",
          "name": "stdout",
          "text": [
            "Categorical columns: Index(['Country', 'Purchased'], dtype='object')\n"
          ]
        }
      ],
      "source": [
        "categorical_columns = df2.select_dtypes(include=['object', 'category']).columns\n",
        "print(\"Categorical columns:\", categorical_columns)\n",
        " # Find all the coloumns whose entires are categorical"
      ]
    },
    {
      "cell_type": "markdown",
      "id": "5b954f3d",
      "metadata": {
        "papermill": {
          "duration": 0.012068,
          "end_time": "2022-11-01T17:13:01.870265",
          "exception": false,
          "start_time": "2022-11-01T17:13:01.858197",
          "status": "completed"
        },
        "tags": [],
        "id": "5b954f3d"
      },
      "source": [
        "# <font color='deepskyblue'>Soluton 1 : One-Hot Encoder </font>"
      ]
    },
    {
      "cell_type": "code",
      "execution_count": null,
      "id": "eea0fcfa",
      "metadata": {
        "execution": {
          "iopub.execute_input": "2022-11-01T17:13:01.896709Z",
          "iopub.status.busy": "2022-11-01T17:13:01.895888Z",
          "iopub.status.idle": "2022-11-01T17:13:01.907964Z",
          "shell.execute_reply": "2022-11-01T17:13:01.906861Z"
        },
        "papermill": {
          "duration": 0.027272,
          "end_time": "2022-11-01T17:13:01.909915",
          "exception": false,
          "start_time": "2022-11-01T17:13:01.882643",
          "status": "completed"
        },
        "tags": [],
        "id": "eea0fcfa",
        "colab": {
          "base_uri": "https://localhost:8080/",
          "height": 363
        },
        "outputId": "42f3359d-e2d4-4f7e-eaba-16f2dfebe36f"
      },
      "outputs": [
        {
          "output_type": "execute_result",
          "data": {
            "text/plain": [
              "   Country        Age        Salary Purchased\n",
              "0   France  38.388889  63777.777778        No\n",
              "1    Spain  38.388889  63777.777778       Yes\n",
              "2  Germany  38.388889  63777.777778        No\n",
              "3    Spain  38.388889  63777.777778        No\n",
              "4  Germany  38.388889  63777.777778       Yes\n",
              "5   France  38.388889  63777.777778       Yes\n",
              "6    Spain  38.388889  63777.777778        No\n",
              "7   France  38.388889  63777.777778       Yes\n",
              "8  Germany  38.388889  63777.777778        No\n",
              "9   France  38.388889  63777.777778       Yes"
            ],
            "text/html": [
              "\n",
              "  <div id=\"df-b31abf80-665e-4838-a05d-3b4cfe732bbd\" class=\"colab-df-container\">\n",
              "    <div>\n",
              "<style scoped>\n",
              "    .dataframe tbody tr th:only-of-type {\n",
              "        vertical-align: middle;\n",
              "    }\n",
              "\n",
              "    .dataframe tbody tr th {\n",
              "        vertical-align: top;\n",
              "    }\n",
              "\n",
              "    .dataframe thead th {\n",
              "        text-align: right;\n",
              "    }\n",
              "</style>\n",
              "<table border=\"1\" class=\"dataframe\">\n",
              "  <thead>\n",
              "    <tr style=\"text-align: right;\">\n",
              "      <th></th>\n",
              "      <th>Country</th>\n",
              "      <th>Age</th>\n",
              "      <th>Salary</th>\n",
              "      <th>Purchased</th>\n",
              "    </tr>\n",
              "  </thead>\n",
              "  <tbody>\n",
              "    <tr>\n",
              "      <th>0</th>\n",
              "      <td>France</td>\n",
              "      <td>38.388889</td>\n",
              "      <td>63777.777778</td>\n",
              "      <td>No</td>\n",
              "    </tr>\n",
              "    <tr>\n",
              "      <th>1</th>\n",
              "      <td>Spain</td>\n",
              "      <td>38.388889</td>\n",
              "      <td>63777.777778</td>\n",
              "      <td>Yes</td>\n",
              "    </tr>\n",
              "    <tr>\n",
              "      <th>2</th>\n",
              "      <td>Germany</td>\n",
              "      <td>38.388889</td>\n",
              "      <td>63777.777778</td>\n",
              "      <td>No</td>\n",
              "    </tr>\n",
              "    <tr>\n",
              "      <th>3</th>\n",
              "      <td>Spain</td>\n",
              "      <td>38.388889</td>\n",
              "      <td>63777.777778</td>\n",
              "      <td>No</td>\n",
              "    </tr>\n",
              "    <tr>\n",
              "      <th>4</th>\n",
              "      <td>Germany</td>\n",
              "      <td>38.388889</td>\n",
              "      <td>63777.777778</td>\n",
              "      <td>Yes</td>\n",
              "    </tr>\n",
              "    <tr>\n",
              "      <th>5</th>\n",
              "      <td>France</td>\n",
              "      <td>38.388889</td>\n",
              "      <td>63777.777778</td>\n",
              "      <td>Yes</td>\n",
              "    </tr>\n",
              "    <tr>\n",
              "      <th>6</th>\n",
              "      <td>Spain</td>\n",
              "      <td>38.388889</td>\n",
              "      <td>63777.777778</td>\n",
              "      <td>No</td>\n",
              "    </tr>\n",
              "    <tr>\n",
              "      <th>7</th>\n",
              "      <td>France</td>\n",
              "      <td>38.388889</td>\n",
              "      <td>63777.777778</td>\n",
              "      <td>Yes</td>\n",
              "    </tr>\n",
              "    <tr>\n",
              "      <th>8</th>\n",
              "      <td>Germany</td>\n",
              "      <td>38.388889</td>\n",
              "      <td>63777.777778</td>\n",
              "      <td>No</td>\n",
              "    </tr>\n",
              "    <tr>\n",
              "      <th>9</th>\n",
              "      <td>France</td>\n",
              "      <td>38.388889</td>\n",
              "      <td>63777.777778</td>\n",
              "      <td>Yes</td>\n",
              "    </tr>\n",
              "  </tbody>\n",
              "</table>\n",
              "</div>\n",
              "    <div class=\"colab-df-buttons\">\n",
              "\n",
              "  <div class=\"colab-df-container\">\n",
              "    <button class=\"colab-df-convert\" onclick=\"convertToInteractive('df-b31abf80-665e-4838-a05d-3b4cfe732bbd')\"\n",
              "            title=\"Convert this dataframe to an interactive table.\"\n",
              "            style=\"display:none;\">\n",
              "\n",
              "  <svg xmlns=\"http://www.w3.org/2000/svg\" height=\"24px\" viewBox=\"0 -960 960 960\">\n",
              "    <path d=\"M120-120v-720h720v720H120Zm60-500h600v-160H180v160Zm220 220h160v-160H400v160Zm0 220h160v-160H400v160ZM180-400h160v-160H180v160Zm440 0h160v-160H620v160ZM180-180h160v-160H180v160Zm440 0h160v-160H620v160Z\"/>\n",
              "  </svg>\n",
              "    </button>\n",
              "\n",
              "  <style>\n",
              "    .colab-df-container {\n",
              "      display:flex;\n",
              "      gap: 12px;\n",
              "    }\n",
              "\n",
              "    .colab-df-convert {\n",
              "      background-color: #E8F0FE;\n",
              "      border: none;\n",
              "      border-radius: 50%;\n",
              "      cursor: pointer;\n",
              "      display: none;\n",
              "      fill: #1967D2;\n",
              "      height: 32px;\n",
              "      padding: 0 0 0 0;\n",
              "      width: 32px;\n",
              "    }\n",
              "\n",
              "    .colab-df-convert:hover {\n",
              "      background-color: #E2EBFA;\n",
              "      box-shadow: 0px 1px 2px rgba(60, 64, 67, 0.3), 0px 1px 3px 1px rgba(60, 64, 67, 0.15);\n",
              "      fill: #174EA6;\n",
              "    }\n",
              "\n",
              "    .colab-df-buttons div {\n",
              "      margin-bottom: 4px;\n",
              "    }\n",
              "\n",
              "    [theme=dark] .colab-df-convert {\n",
              "      background-color: #3B4455;\n",
              "      fill: #D2E3FC;\n",
              "    }\n",
              "\n",
              "    [theme=dark] .colab-df-convert:hover {\n",
              "      background-color: #434B5C;\n",
              "      box-shadow: 0px 1px 3px 1px rgba(0, 0, 0, 0.15);\n",
              "      filter: drop-shadow(0px 1px 2px rgba(0, 0, 0, 0.3));\n",
              "      fill: #FFFFFF;\n",
              "    }\n",
              "  </style>\n",
              "\n",
              "    <script>\n",
              "      const buttonEl =\n",
              "        document.querySelector('#df-b31abf80-665e-4838-a05d-3b4cfe732bbd button.colab-df-convert');\n",
              "      buttonEl.style.display =\n",
              "        google.colab.kernel.accessAllowed ? 'block' : 'none';\n",
              "\n",
              "      async function convertToInteractive(key) {\n",
              "        const element = document.querySelector('#df-b31abf80-665e-4838-a05d-3b4cfe732bbd');\n",
              "        const dataTable =\n",
              "          await google.colab.kernel.invokeFunction('convertToInteractive',\n",
              "                                                    [key], {});\n",
              "        if (!dataTable) return;\n",
              "\n",
              "        const docLinkHtml = 'Like what you see? Visit the ' +\n",
              "          '<a target=\"_blank\" href=https://colab.research.google.com/notebooks/data_table.ipynb>data table notebook</a>'\n",
              "          + ' to learn more about interactive tables.';\n",
              "        element.innerHTML = '';\n",
              "        dataTable['output_type'] = 'display_data';\n",
              "        await google.colab.output.renderOutput(dataTable, element);\n",
              "        const docLink = document.createElement('div');\n",
              "        docLink.innerHTML = docLinkHtml;\n",
              "        element.appendChild(docLink);\n",
              "      }\n",
              "    </script>\n",
              "  </div>\n",
              "\n",
              "\n",
              "<div id=\"df-7bb3ec1e-14f8-4cd1-9330-c3562d4bd2fe\">\n",
              "  <button class=\"colab-df-quickchart\" onclick=\"quickchart('df-7bb3ec1e-14f8-4cd1-9330-c3562d4bd2fe')\"\n",
              "            title=\"Suggest charts\"\n",
              "            style=\"display:none;\">\n",
              "\n",
              "<svg xmlns=\"http://www.w3.org/2000/svg\" height=\"24px\"viewBox=\"0 0 24 24\"\n",
              "     width=\"24px\">\n",
              "    <g>\n",
              "        <path d=\"M19 3H5c-1.1 0-2 .9-2 2v14c0 1.1.9 2 2 2h14c1.1 0 2-.9 2-2V5c0-1.1-.9-2-2-2zM9 17H7v-7h2v7zm4 0h-2V7h2v10zm4 0h-2v-4h2v4z\"/>\n",
              "    </g>\n",
              "</svg>\n",
              "  </button>\n",
              "\n",
              "<style>\n",
              "  .colab-df-quickchart {\n",
              "      --bg-color: #E8F0FE;\n",
              "      --fill-color: #1967D2;\n",
              "      --hover-bg-color: #E2EBFA;\n",
              "      --hover-fill-color: #174EA6;\n",
              "      --disabled-fill-color: #AAA;\n",
              "      --disabled-bg-color: #DDD;\n",
              "  }\n",
              "\n",
              "  [theme=dark] .colab-df-quickchart {\n",
              "      --bg-color: #3B4455;\n",
              "      --fill-color: #D2E3FC;\n",
              "      --hover-bg-color: #434B5C;\n",
              "      --hover-fill-color: #FFFFFF;\n",
              "      --disabled-bg-color: #3B4455;\n",
              "      --disabled-fill-color: #666;\n",
              "  }\n",
              "\n",
              "  .colab-df-quickchart {\n",
              "    background-color: var(--bg-color);\n",
              "    border: none;\n",
              "    border-radius: 50%;\n",
              "    cursor: pointer;\n",
              "    display: none;\n",
              "    fill: var(--fill-color);\n",
              "    height: 32px;\n",
              "    padding: 0;\n",
              "    width: 32px;\n",
              "  }\n",
              "\n",
              "  .colab-df-quickchart:hover {\n",
              "    background-color: var(--hover-bg-color);\n",
              "    box-shadow: 0 1px 2px rgba(60, 64, 67, 0.3), 0 1px 3px 1px rgba(60, 64, 67, 0.15);\n",
              "    fill: var(--button-hover-fill-color);\n",
              "  }\n",
              "\n",
              "  .colab-df-quickchart-complete:disabled,\n",
              "  .colab-df-quickchart-complete:disabled:hover {\n",
              "    background-color: var(--disabled-bg-color);\n",
              "    fill: var(--disabled-fill-color);\n",
              "    box-shadow: none;\n",
              "  }\n",
              "\n",
              "  .colab-df-spinner {\n",
              "    border: 2px solid var(--fill-color);\n",
              "    border-color: transparent;\n",
              "    border-bottom-color: var(--fill-color);\n",
              "    animation:\n",
              "      spin 1s steps(1) infinite;\n",
              "  }\n",
              "\n",
              "  @keyframes spin {\n",
              "    0% {\n",
              "      border-color: transparent;\n",
              "      border-bottom-color: var(--fill-color);\n",
              "      border-left-color: var(--fill-color);\n",
              "    }\n",
              "    20% {\n",
              "      border-color: transparent;\n",
              "      border-left-color: var(--fill-color);\n",
              "      border-top-color: var(--fill-color);\n",
              "    }\n",
              "    30% {\n",
              "      border-color: transparent;\n",
              "      border-left-color: var(--fill-color);\n",
              "      border-top-color: var(--fill-color);\n",
              "      border-right-color: var(--fill-color);\n",
              "    }\n",
              "    40% {\n",
              "      border-color: transparent;\n",
              "      border-right-color: var(--fill-color);\n",
              "      border-top-color: var(--fill-color);\n",
              "    }\n",
              "    60% {\n",
              "      border-color: transparent;\n",
              "      border-right-color: var(--fill-color);\n",
              "    }\n",
              "    80% {\n",
              "      border-color: transparent;\n",
              "      border-right-color: var(--fill-color);\n",
              "      border-bottom-color: var(--fill-color);\n",
              "    }\n",
              "    90% {\n",
              "      border-color: transparent;\n",
              "      border-bottom-color: var(--fill-color);\n",
              "    }\n",
              "  }\n",
              "</style>\n",
              "\n",
              "  <script>\n",
              "    async function quickchart(key) {\n",
              "      const quickchartButtonEl =\n",
              "        document.querySelector('#' + key + ' button');\n",
              "      quickchartButtonEl.disabled = true;  // To prevent multiple clicks.\n",
              "      quickchartButtonEl.classList.add('colab-df-spinner');\n",
              "      try {\n",
              "        const charts = await google.colab.kernel.invokeFunction(\n",
              "            'suggestCharts', [key], {});\n",
              "      } catch (error) {\n",
              "        console.error('Error during call to suggestCharts:', error);\n",
              "      }\n",
              "      quickchartButtonEl.classList.remove('colab-df-spinner');\n",
              "      quickchartButtonEl.classList.add('colab-df-quickchart-complete');\n",
              "    }\n",
              "    (() => {\n",
              "      let quickchartButtonEl =\n",
              "        document.querySelector('#df-7bb3ec1e-14f8-4cd1-9330-c3562d4bd2fe button');\n",
              "      quickchartButtonEl.style.display =\n",
              "        google.colab.kernel.accessAllowed ? 'block' : 'none';\n",
              "    })();\n",
              "  </script>\n",
              "</div>\n",
              "\n",
              "  <div id=\"id_7806e1e5-8b19-4052-b404-eea8a9783673\">\n",
              "    <style>\n",
              "      .colab-df-generate {\n",
              "        background-color: #E8F0FE;\n",
              "        border: none;\n",
              "        border-radius: 50%;\n",
              "        cursor: pointer;\n",
              "        display: none;\n",
              "        fill: #1967D2;\n",
              "        height: 32px;\n",
              "        padding: 0 0 0 0;\n",
              "        width: 32px;\n",
              "      }\n",
              "\n",
              "      .colab-df-generate:hover {\n",
              "        background-color: #E2EBFA;\n",
              "        box-shadow: 0px 1px 2px rgba(60, 64, 67, 0.3), 0px 1px 3px 1px rgba(60, 64, 67, 0.15);\n",
              "        fill: #174EA6;\n",
              "      }\n",
              "\n",
              "      [theme=dark] .colab-df-generate {\n",
              "        background-color: #3B4455;\n",
              "        fill: #D2E3FC;\n",
              "      }\n",
              "\n",
              "      [theme=dark] .colab-df-generate:hover {\n",
              "        background-color: #434B5C;\n",
              "        box-shadow: 0px 1px 3px 1px rgba(0, 0, 0, 0.15);\n",
              "        filter: drop-shadow(0px 1px 2px rgba(0, 0, 0, 0.3));\n",
              "        fill: #FFFFFF;\n",
              "      }\n",
              "    </style>\n",
              "    <button class=\"colab-df-generate\" onclick=\"generateWithVariable('df2')\"\n",
              "            title=\"Generate code using this dataframe.\"\n",
              "            style=\"display:none;\">\n",
              "\n",
              "  <svg xmlns=\"http://www.w3.org/2000/svg\" height=\"24px\"viewBox=\"0 0 24 24\"\n",
              "       width=\"24px\">\n",
              "    <path d=\"M7,19H8.4L18.45,9,17,7.55,7,17.6ZM5,21V16.75L18.45,3.32a2,2,0,0,1,2.83,0l1.4,1.43a1.91,1.91,0,0,1,.58,1.4,1.91,1.91,0,0,1-.58,1.4L9.25,21ZM18.45,9,17,7.55Zm-12,3A5.31,5.31,0,0,0,4.9,8.1,5.31,5.31,0,0,0,1,6.5,5.31,5.31,0,0,0,4.9,4.9,5.31,5.31,0,0,0,6.5,1,5.31,5.31,0,0,0,8.1,4.9,5.31,5.31,0,0,0,12,6.5,5.46,5.46,0,0,0,6.5,12Z\"/>\n",
              "  </svg>\n",
              "    </button>\n",
              "    <script>\n",
              "      (() => {\n",
              "      const buttonEl =\n",
              "        document.querySelector('#id_7806e1e5-8b19-4052-b404-eea8a9783673 button.colab-df-generate');\n",
              "      buttonEl.style.display =\n",
              "        google.colab.kernel.accessAllowed ? 'block' : 'none';\n",
              "\n",
              "      buttonEl.onclick = () => {\n",
              "        google.colab.notebook.generateWithVariable('df2');\n",
              "      }\n",
              "      })();\n",
              "    </script>\n",
              "  </div>\n",
              "\n",
              "    </div>\n",
              "  </div>\n"
            ],
            "application/vnd.google.colaboratory.intrinsic+json": {
              "type": "dataframe",
              "variable_name": "df2",
              "summary": "{\n  \"name\": \"df2\",\n  \"rows\": 10,\n  \"fields\": [\n    {\n      \"column\": \"Country\",\n      \"properties\": {\n        \"dtype\": \"category\",\n        \"num_unique_values\": 3,\n        \"samples\": [\n          \"France\",\n          \"Spain\",\n          \"Germany\"\n        ],\n        \"semantic_type\": \"\",\n        \"description\": \"\"\n      }\n    },\n    {\n      \"column\": \"Age\",\n      \"properties\": {\n        \"dtype\": \"number\",\n        \"std\": 7.489778066296963e-15,\n        \"min\": 38.388888888888886,\n        \"max\": 38.388888888888886,\n        \"num_unique_values\": 1,\n        \"samples\": [\n          38.388888888888886\n        ],\n        \"semantic_type\": \"\",\n        \"description\": \"\"\n      }\n    },\n    {\n      \"column\": \"Salary\",\n      \"properties\": {\n        \"dtype\": \"number\",\n        \"std\": 7.66953273988809e-12,\n        \"min\": 63777.777777777774,\n        \"max\": 63777.777777777774,\n        \"num_unique_values\": 1,\n        \"samples\": [\n          63777.777777777774\n        ],\n        \"semantic_type\": \"\",\n        \"description\": \"\"\n      }\n    },\n    {\n      \"column\": \"Purchased\",\n      \"properties\": {\n        \"dtype\": \"category\",\n        \"num_unique_values\": 2,\n        \"samples\": [\n          \"Yes\"\n        ],\n        \"semantic_type\": \"\",\n        \"description\": \"\"\n      }\n    }\n  ]\n}"
            }
          },
          "metadata": {},
          "execution_count": 26
        }
      ],
      "source": [
        "df2"
      ]
    },
    {
      "cell_type": "code",
      "execution_count": null,
      "id": "1ec89175",
      "metadata": {
        "execution": {
          "iopub.execute_input": "2022-11-01T17:13:01.937168Z",
          "iopub.status.busy": "2022-11-01T17:13:01.936806Z",
          "iopub.status.idle": "2022-11-01T17:13:01.960922Z",
          "shell.execute_reply": "2022-11-01T17:13:01.959690Z"
        },
        "papermill": {
          "duration": 0.040746,
          "end_time": "2022-11-01T17:13:01.963442",
          "exception": false,
          "start_time": "2022-11-01T17:13:01.922696",
          "status": "completed"
        },
        "tags": [],
        "id": "1ec89175",
        "colab": {
          "base_uri": "https://localhost:8080/"
        },
        "outputId": "c9f1814d-5ee1-406b-aa18-9956bd0deab5"
      },
      "outputs": [
        {
          "output_type": "stream",
          "name": "stdout",
          "text": [
            "Categorical columns: Index(['Country', 'Purchased'], dtype='object')\n",
            "    Age   Salary  Country_Germany  Country_Spain  Purchased_Yes\n",
            "0  44.0  72000.0            False          False          False\n",
            "1  27.0  48000.0            False           True           True\n",
            "2  30.0  54000.0             True          False          False\n",
            "3  38.0  61000.0            False           True          False\n",
            "4  40.0      NaN             True          False           True\n"
          ]
        }
      ],
      "source": [
        "from sklearn.preprocessing import OneHotEncoder#Import one-hot Encoder\n",
        "import pandas as pd\n",
        "categorical_columns = df.select_dtypes(include=['object', 'category']).columns\n",
        "print(f\"Categorical columns: {categorical_columns}\")\n",
        "df_one_hot = pd.get_dummies(df, columns=categorical_columns, drop_first=True)\n",
        "print(df_one_hot.head())\n",
        " # Use one-hot encoding to encode coategorical values"
      ]
    },
    {
      "cell_type": "markdown",
      "id": "8a6d7ae9",
      "metadata": {
        "papermill": {
          "duration": 0.012788,
          "end_time": "2022-11-01T17:13:01.989337",
          "exception": false,
          "start_time": "2022-11-01T17:13:01.976549",
          "status": "completed"
        },
        "tags": [],
        "id": "8a6d7ae9"
      },
      "source": [
        "# <font color='deepskyblue'>Solution 2 : LabelEncoder</font>"
      ]
    },
    {
      "cell_type": "code",
      "execution_count": null,
      "id": "f78abd9e",
      "metadata": {
        "execution": {
          "iopub.execute_input": "2022-11-01T17:13:02.017375Z",
          "iopub.status.busy": "2022-11-01T17:13:02.016991Z",
          "iopub.status.idle": "2022-11-01T17:13:02.021373Z",
          "shell.execute_reply": "2022-11-01T17:13:02.020447Z"
        },
        "papermill": {
          "duration": 0.020904,
          "end_time": "2022-11-01T17:13:02.023385",
          "exception": false,
          "start_time": "2022-11-01T17:13:02.002481",
          "status": "completed"
        },
        "tags": [],
        "id": "f78abd9e",
        "colab": {
          "base_uri": "https://localhost:8080/"
        },
        "outputId": "20e0ec28-6040-4ba3-95ea-f4a5fe3ad627"
      },
      "outputs": [
        {
          "output_type": "stream",
          "name": "stdout",
          "text": [
            "   Country  Country_encoded\n",
            "0   France                0\n",
            "1    Spain                2\n",
            "2  Germany                1\n"
          ]
        }
      ],
      "source": [
        "import pandas as pd\n",
        "from sklearn.preprocessing import LabelEncoder\n",
        "  # Import LabelEncoder\n",
        "data = {\n",
        "    'Country': ['France','Spain','Germany']\n",
        "    }\n",
        "df = pd.DataFrame(data)\n",
        "label_encoder = LabelEncoder()\n",
        "df['Country_encoded'] = label_encoder.fit_transform(df['Country'])\n",
        "print(df)\n",
        "\n",
        "#Use label encoding to encode categorical variables"
      ]
    },
    {
      "cell_type": "markdown",
      "id": "2fa45a36",
      "metadata": {
        "papermill": {
          "duration": 0.012646,
          "end_time": "2022-11-01T17:13:02.083716",
          "exception": false,
          "start_time": "2022-11-01T17:13:02.071070",
          "status": "completed"
        },
        "tags": [],
        "id": "2fa45a36"
      },
      "source": [
        "# <font color='deepskyblue'>Step 5 : Splitting the dataset</font>\n",
        "Splitting the dataset is the next step in data preprocessing in machine learning. Every dataset for Machine Learning model must be split into two separate sets – training set and test set."
      ]
    },
    {
      "cell_type": "code",
      "execution_count": null,
      "id": "1160b056",
      "metadata": {
        "id": "1160b056",
        "colab": {
          "base_uri": "https://localhost:8080/"
        },
        "outputId": "bcf87fe5-c6e5-487a-989f-a9eb45856fa2"
      },
      "outputs": [
        {
          "output_type": "stream",
          "name": "stdout",
          "text": [
            "[['France' 44.0 72000.0]\n",
            " ['Spain' 27.0 48000.0]\n",
            " ['Germany' 30.0 54000.0]\n",
            " ['Spain' 38.0 61000.0]\n",
            " ['Germany' 40.0 nan]\n",
            " ['France' 35.0 58000.0]\n",
            " ['Spain' nan 52000.0]\n",
            " ['France' 48.0 79000.0]\n",
            " ['Germany' 50.0 83000.0]\n",
            " ['France' 37.0 67000.0]]\n",
            "['No' 'Yes' 'No' 'No' 'Yes' 'Yes' 'No' 'Yes' 'No' 'Yes']\n"
          ]
        }
      ],
      "source": [
        "print(X)\n",
        "print(Y)"
      ]
    },
    {
      "cell_type": "code",
      "source": [
        "from sklearn.impute import SimpleImputer\n",
        "imputer = SimpleImputer(strategy='mean')\n",
        "X[:, 1:] = imputer.fit_transform(X[:, 1:])"
      ],
      "metadata": {
        "id": "QBdn2rKHr6sG"
      },
      "id": "QBdn2rKHr6sG",
      "execution_count": null,
      "outputs": []
    },
    {
      "cell_type": "code",
      "source": [
        "from sklearn.preprocessing import LabelEncoder\n",
        "le = LabelEncoder()\n",
        "X[:,0] = le.fit_transform(X[:,0])\n",
        "X = X.astype(float)"
      ],
      "metadata": {
        "id": "TH27j3Eqr9Op"
      },
      "id": "TH27j3Eqr9Op",
      "execution_count": null,
      "outputs": []
    },
    {
      "cell_type": "code",
      "execution_count": null,
      "id": "6108eaf9",
      "metadata": {
        "execution": {
          "iopub.execute_input": "2022-11-01T17:13:02.138400Z",
          "iopub.status.busy": "2022-11-01T17:13:02.138031Z",
          "iopub.status.idle": "2022-11-01T17:13:02.143897Z",
          "shell.execute_reply": "2022-11-01T17:13:02.142509Z"
        },
        "papermill": {
          "duration": 0.022706,
          "end_time": "2022-11-01T17:13:02.146510",
          "exception": false,
          "start_time": "2022-11-01T17:13:02.123804",
          "status": "completed"
        },
        "tags": [],
        "id": "6108eaf9"
      },
      "outputs": [],
      "source": [
        "from sklearn.model_selection import train_test_split\n",
        "X_train, X_test, Y_train, Y_test = train_test_split(X, Y, test_size = 0.2, random_state = 1)"
      ]
    },
    {
      "cell_type": "code",
      "execution_count": null,
      "id": "d1a284d5",
      "metadata": {
        "id": "d1a284d5"
      },
      "outputs": [],
      "source": [
        "from sklearn.impute import SimpleImputer\n",
        "imputer = SimpleImputer(strategy='mean')\n",
        "X_train[:, 1:] = imputer.fit_transform(X_train[:, 1:])"
      ]
    },
    {
      "cell_type": "code",
      "execution_count": null,
      "id": "957c4dbb",
      "metadata": {
        "execution": {
          "iopub.execute_input": "2022-11-01T17:13:02.174379Z",
          "iopub.status.busy": "2022-11-01T17:13:02.173938Z",
          "iopub.status.idle": "2022-11-01T17:13:02.180458Z",
          "shell.execute_reply": "2022-11-01T17:13:02.178974Z"
        },
        "papermill": {
          "duration": 0.022755,
          "end_time": "2022-11-01T17:13:02.182447",
          "exception": false,
          "start_time": "2022-11-01T17:13:02.159692",
          "status": "completed"
        },
        "tags": [],
        "id": "957c4dbb",
        "colab": {
          "base_uri": "https://localhost:8080/"
        },
        "outputId": "05fb8937-1838-4b16-c567-1514cee9850c"
      },
      "outputs": [
        {
          "output_type": "stream",
          "name": "stdout",
          "text": [
            "[[2.00000000e+00 3.87777778e+01 5.20000000e+04]\n",
            " [1.00000000e+00 4.00000000e+01 6.37777778e+04]\n",
            " [0.00000000e+00 4.40000000e+01 7.20000000e+04]\n",
            " [2.00000000e+00 3.80000000e+01 6.10000000e+04]\n",
            " [2.00000000e+00 2.70000000e+01 4.80000000e+04]\n",
            " [0.00000000e+00 4.80000000e+01 7.90000000e+04]\n",
            " [1.00000000e+00 5.00000000e+01 8.30000000e+04]\n",
            " [0.00000000e+00 3.50000000e+01 5.80000000e+04]]\n"
          ]
        }
      ],
      "source": [
        "print(X_train)"
      ]
    },
    {
      "cell_type": "code",
      "execution_count": null,
      "id": "3a1f92a9",
      "metadata": {
        "execution": {
          "iopub.execute_input": "2022-11-01T17:13:02.210605Z",
          "iopub.status.busy": "2022-11-01T17:13:02.210181Z",
          "iopub.status.idle": "2022-11-01T17:13:02.217321Z",
          "shell.execute_reply": "2022-11-01T17:13:02.216315Z"
        },
        "papermill": {
          "duration": 0.023843,
          "end_time": "2022-11-01T17:13:02.219230",
          "exception": false,
          "start_time": "2022-11-01T17:13:02.195387",
          "status": "completed"
        },
        "tags": [],
        "id": "3a1f92a9",
        "colab": {
          "base_uri": "https://localhost:8080/"
        },
        "outputId": "178016f1-e31f-4035-ae68-1666030a41c8"
      },
      "outputs": [
        {
          "output_type": "stream",
          "name": "stdout",
          "text": [
            "[[1.0e+00 3.0e+01 5.4e+04]\n",
            " [0.0e+00 3.7e+01 6.7e+04]]\n"
          ]
        }
      ],
      "source": [
        "print(X_test)"
      ]
    },
    {
      "cell_type": "code",
      "execution_count": null,
      "id": "34c0d1e5",
      "metadata": {
        "execution": {
          "iopub.execute_input": "2022-11-01T17:13:02.248604Z",
          "iopub.status.busy": "2022-11-01T17:13:02.247230Z",
          "iopub.status.idle": "2022-11-01T17:13:02.253496Z",
          "shell.execute_reply": "2022-11-01T17:13:02.252435Z"
        },
        "papermill": {
          "duration": 0.022753,
          "end_time": "2022-11-01T17:13:02.255229",
          "exception": false,
          "start_time": "2022-11-01T17:13:02.232476",
          "status": "completed"
        },
        "tags": [],
        "id": "34c0d1e5",
        "colab": {
          "base_uri": "https://localhost:8080/"
        },
        "outputId": "67ead94c-5c3c-4455-c736-d2669fcdbdbf"
      },
      "outputs": [
        {
          "output_type": "stream",
          "name": "stdout",
          "text": [
            "['No' 'Yes' 'No' 'No' 'Yes' 'Yes' 'No' 'Yes']\n"
          ]
        }
      ],
      "source": [
        "print(Y_train)"
      ]
    },
    {
      "cell_type": "code",
      "execution_count": null,
      "id": "960818bb",
      "metadata": {
        "execution": {
          "iopub.execute_input": "2022-11-01T17:13:02.282704Z",
          "iopub.status.busy": "2022-11-01T17:13:02.282229Z",
          "iopub.status.idle": "2022-11-01T17:13:02.287438Z",
          "shell.execute_reply": "2022-11-01T17:13:02.286511Z"
        },
        "papermill": {
          "duration": 0.021589,
          "end_time": "2022-11-01T17:13:02.289659",
          "exception": false,
          "start_time": "2022-11-01T17:13:02.268070",
          "status": "completed"
        },
        "tags": [],
        "id": "960818bb",
        "colab": {
          "base_uri": "https://localhost:8080/"
        },
        "outputId": "c76fd6ea-d7cd-4269-c6ab-f5f6b27e683f"
      },
      "outputs": [
        {
          "output_type": "stream",
          "name": "stdout",
          "text": [
            "['No' 'Yes']\n"
          ]
        }
      ],
      "source": [
        "print(Y_test)"
      ]
    },
    {
      "cell_type": "markdown",
      "id": "33dfd499",
      "metadata": {
        "papermill": {
          "duration": 0.012417,
          "end_time": "2022-11-01T17:13:02.314591",
          "exception": false,
          "start_time": "2022-11-01T17:13:02.302174",
          "status": "completed"
        },
        "tags": [],
        "id": "33dfd499"
      },
      "source": [
        "# <font color='deepskyblue'>Step 6 : Feature scaling</font>\n",
        "\n",
        "\n",
        "\n",
        "Feature scaling marks the end of the data preprocessing in Machine Learning. It is a method to standardize the independent variables of a dataset within a specific range. In other words, feature scaling limits the range of variables so that you can compare them on common grounds.\n",
        "\n",
        "Another reason why feature scaling is applied is that few algorithms like gradient descent converge much faster with feature scaling than without it."
      ]
    },
    {
      "cell_type": "markdown",
      "id": "3f3e1a9b",
      "metadata": {
        "papermill": {
          "duration": 0.018186,
          "end_time": "2022-11-01T17:13:02.555131",
          "exception": false,
          "start_time": "2022-11-01T17:13:02.536945",
          "status": "completed"
        },
        "tags": [],
        "id": "3f3e1a9b"
      },
      "source": [
        "# <font color='deepskyblue'>Standard Scaler</font>\n",
        "StandardScaler follows Standard Normal Distribution (SND). Therefore, it makes mean = 0 and scales the data to unit variance."
      ]
    },
    {
      "cell_type": "markdown",
      "id": "dece8132",
      "metadata": {
        "papermill": {
          "duration": 0.015985,
          "end_time": "2022-11-01T17:13:02.586504",
          "exception": false,
          "start_time": "2022-11-01T17:13:02.570519",
          "status": "completed"
        },
        "tags": [],
        "id": "dece8132"
      },
      "source": [
        "# <img src=\"https://i.stack.imgur.com/PZgJ2.png\" width=\"50%\"/>\n"
      ]
    },
    {
      "cell_type": "markdown",
      "id": "3c519ea2",
      "metadata": {
        "papermill": {
          "duration": 0.013474,
          "end_time": "2022-11-01T17:13:02.613578",
          "exception": false,
          "start_time": "2022-11-01T17:13:02.600104",
          "status": "completed"
        },
        "tags": [],
        "id": "3c519ea2"
      },
      "source": [
        "# <img src=\"https://journaldev.nyc3.digitaloceanspaces.com/2020/10/Standardization.png\" width=\"50%\"/>\n"
      ]
    },
    {
      "cell_type": "code",
      "execution_count": null,
      "id": "ffebfc42",
      "metadata": {
        "execution": {
          "iopub.execute_input": "2022-11-01T17:13:02.642430Z",
          "iopub.status.busy": "2022-11-01T17:13:02.641977Z",
          "iopub.status.idle": "2022-11-01T17:13:02.649394Z",
          "shell.execute_reply": "2022-11-01T17:13:02.647905Z"
        },
        "papermill": {
          "duration": 0.024074,
          "end_time": "2022-11-01T17:13:02.651270",
          "exception": false,
          "start_time": "2022-11-01T17:13:02.627196",
          "status": "completed"
        },
        "tags": [],
        "id": "ffebfc42"
      },
      "outputs": [],
      "source": [
        "? # Import StandardScalar\n",
        "sta = StandardScaler()\n",
        "X_train[:, 1:] = sta.?(X_train[:, 1:]) #Standardize the data\n",
        "X_test[:, 1:] = sta.?(X_test[:, 1:])"
      ]
    },
    {
      "cell_type": "code",
      "execution_count": null,
      "id": "67057937",
      "metadata": {
        "execution": {
          "iopub.execute_input": "2022-11-01T17:13:02.680075Z",
          "iopub.status.busy": "2022-11-01T17:13:02.679726Z",
          "iopub.status.idle": "2022-11-01T17:13:02.684545Z",
          "shell.execute_reply": "2022-11-01T17:13:02.683625Z"
        },
        "papermill": {
          "duration": 0.022169,
          "end_time": "2022-11-01T17:13:02.686575",
          "exception": false,
          "start_time": "2022-11-01T17:13:02.664406",
          "status": "completed"
        },
        "tags": [],
        "id": "67057937"
      },
      "outputs": [],
      "source": [
        "print(X_train)"
      ]
    },
    {
      "cell_type": "code",
      "execution_count": null,
      "id": "773aca59",
      "metadata": {
        "execution": {
          "iopub.execute_input": "2022-11-01T17:13:02.714106Z",
          "iopub.status.busy": "2022-11-01T17:13:02.713375Z",
          "iopub.status.idle": "2022-11-01T17:13:02.718935Z",
          "shell.execute_reply": "2022-11-01T17:13:02.717822Z"
        },
        "papermill": {
          "duration": 0.022033,
          "end_time": "2022-11-01T17:13:02.721535",
          "exception": false,
          "start_time": "2022-11-01T17:13:02.699502",
          "status": "completed"
        },
        "tags": [],
        "id": "773aca59"
      },
      "outputs": [],
      "source": [
        "print(X_test)"
      ]
    },
    {
      "cell_type": "markdown",
      "source": [
        "# <font color='deepskyblue'>Step 7 : KNN</font>"
      ],
      "metadata": {
        "id": "PvWXhFf3tGJB"
      },
      "id": "PvWXhFf3tGJB"
    },
    {
      "cell_type": "code",
      "source": [
        "? # Import KNN and fit the data into the KNN model and generate predictions"
      ],
      "metadata": {
        "id": "1Ql4Eo0irvtj"
      },
      "id": "1Ql4Eo0irvtj",
      "execution_count": null,
      "outputs": []
    },
    {
      "cell_type": "markdown",
      "source": [
        "# <font color='deepskyblue'>Step 8 : Decision Tree Classifier</font>\n"
      ],
      "metadata": {
        "id": "2J3OZy0atbM-"
      },
      "id": "2J3OZy0atbM-"
    },
    {
      "cell_type": "code",
      "source": [
        "? # Import DecisionTreeClassifier and fit the data into the DecisionTreeClassifier and generate predictions"
      ],
      "metadata": {
        "id": "RiEwGuVntiQz"
      },
      "id": "RiEwGuVntiQz",
      "execution_count": null,
      "outputs": []
    },
    {
      "cell_type": "markdown",
      "source": [
        "# <font color='deepskyblue'>Bonus Task</font>\n",
        "## Implementing KNN from scratch"
      ],
      "metadata": {
        "id": "NzcrHPfG5cKx"
      },
      "id": "NzcrHPfG5cKx"
    },
    {
      "source": [
        "# @title Run this cell to generate data\n",
        "data = np.random.randint(0,100,size=(10,3))\n",
        "for i in range(10):\n",
        "    if ((data[i][0] + data[i][1] )% 4 == 0):\n",
        "        data[i][2] = 1\n",
        "    else:\n",
        "        data[i][2] = 0\n",
        "data"
      ],
      "cell_type": "code",
      "metadata": {
        "colab": {
          "base_uri": "https://localhost:8080/"
        },
        "cellView": "form",
        "id": "-DQ1-HgZ9KLI",
        "outputId": "41b67c9c-bccf-4bb9-c517-8b61268c9117"
      },
      "id": "-DQ1-HgZ9KLI",
      "execution_count": null,
      "outputs": [
        {
          "output_type": "execute_result",
          "data": {
            "text/plain": [
              "array([[73, 19,  1],\n",
              "       [19, 68,  0],\n",
              "       [33, 38,  0],\n",
              "       [74, 69,  0],\n",
              "       [33, 95,  1],\n",
              "       [46,  9,  0],\n",
              "       [91, 35,  0],\n",
              "       [93, 17,  0],\n",
              "       [30, 31,  0],\n",
              "       [72, 96,  1]])"
            ]
          },
          "metadata": {},
          "execution_count": 19
        }
      ]
    },
    {
      "cell_type": "markdown",
      "source": [
        "### Your generated data is in a variable called `data`"
      ],
      "metadata": {
        "id": "7g2nYV5WB4uM"
      },
      "id": "7g2nYV5WB4uM"
    },
    {
      "cell_type": "code",
      "source": [
        "# Convert the data array into a pandas dataframe with coloumn names `x1`, `x2` , `y`.\n",
        "df = ?\n",
        "df"
      ],
      "metadata": {
        "id": "Lz9-bDVC9W4a"
      },
      "id": "Lz9-bDVC9W4a",
      "execution_count": null,
      "outputs": []
    },
    {
      "source": [
        "# generate a scatter plot between x1 and x2\n",
        "\n",
        "?"
      ],
      "cell_type": "code",
      "execution_count": null,
      "outputs": [],
      "metadata": {
        "id": "dmnD1rTW-AVb"
      },
      "id": "dmnD1rTW-AVb"
    },
    {
      "cell_type": "code",
      "source": [
        "# Find Euclidean distance between the first two rows of matrix data."
      ],
      "metadata": {
        "id": "HDrzfr4-9iAt"
      },
      "id": "HDrzfr4-9iAt",
      "execution_count": null,
      "outputs": []
    },
    {
      "cell_type": "code",
      "source": [
        "# Create a vector V with three random values."
      ],
      "metadata": {
        "id": "kpYb7hIdAkXZ"
      },
      "id": "kpYb7hIdAkXZ",
      "execution_count": null,
      "outputs": []
    },
    {
      "cell_type": "code",
      "source": [
        "# Find the Euclidean distance between each row of M with V. Store the distance in a vector and print."
      ],
      "metadata": {
        "id": "8tVREfYaA0pA"
      },
      "id": "8tVREfYaA0pA",
      "execution_count": null,
      "outputs": []
    },
    {
      "cell_type": "code",
      "source": [
        "# Sort the Dist matrix based on the last column. you can use argsort() to sort the matrix."
      ],
      "metadata": {
        "id": "iKz5fQUWBAr9"
      },
      "id": "iKz5fQUWBAr9",
      "execution_count": null,
      "outputs": []
    }
  ],
  "metadata": {
    "kernelspec": {
      "display_name": "Python 3",
      "language": "python",
      "name": "python3"
    },
    "language_info": {
      "codemirror_mode": {
        "name": "ipython",
        "version": 3
      },
      "file_extension": ".py",
      "mimetype": "text/x-python",
      "name": "python",
      "nbconvert_exporter": "python",
      "pygments_lexer": "ipython3",
      "version": "3.10.9"
    },
    "papermill": {
      "default_parameters": {},
      "duration": 12.298996,
      "end_time": "2022-11-01T17:13:03.640311",
      "environment_variables": {},
      "exception": null,
      "input_path": "__notebook__.ipynb",
      "output_path": "__notebook__.ipynb",
      "parameters": {},
      "start_time": "2022-11-01T17:12:51.341315",
      "version": "2.3.4"
    },
    "colab": {
      "provenance": []
    }
  },
  "nbformat": 4,
  "nbformat_minor": 5
}